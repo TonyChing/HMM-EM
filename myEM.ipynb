{
 "cells": [
  {
   "cell_type": "code",
   "execution_count": 1,
   "id": "3581a207",
   "metadata": {},
   "outputs": [],
   "source": [
    "from PattRecClasses import DiscreteD, GaussD, HMM, MarkovChain, GetPx\n",
    "from matplotlib import pyplot as plt\n",
    "import numpy as np"
   ]
  },
  {
   "cell_type": "code",
   "execution_count": 2,
   "id": "284c2646",
   "metadata": {},
   "outputs": [],
   "source": [
    "from matplotlib import pyplot as plt\n",
    "from scipy.io import wavfile\n",
    "from scipy.signal import firwin,filtfilt\n",
    "from GetMusicFeatures import GetMusicFeatures\n",
    "from FeatureExtractor import FeatureExtractor\n",
    "import numpy as np\n",
    "import pickle as pkl\n",
    "def lowpass(x,fc,fs=44100):\n",
    "    \"\"\" x is the signal, \n",
    "        fc is the cuttoff frequency expressed in Hz, must be between [0,fs/2]\n",
    "    \"\"\"\n",
    "    b = firwin(1024, fc,fs=fs)\n",
    "    y = filtfilt(b,1,x)\n",
    "    return y"
   ]
  },
  {
   "cell_type": "code",
   "execution_count": 4,
   "id": "3701ea2c",
   "metadata": {
    "scrolled": false
   },
   "outputs": [
    {
     "name": "stdout",
     "output_type": "stream",
     "text": [
      "The logprob of the data from which HMM generated it: -7062.427127779417\n",
      "The logprob of the data from which HMM not generated it before training: -249763.70329109317\n",
      "logprob: -9178.746653908378  ite: 1\n",
      "logprob: -7063.5440166827275  ite: 2\n",
      "logprob: -7063.542762630079  ite: 3\n",
      "prob_change: 0.0012540526486191084 terminate after ite: 3\n"
     ]
    }
   ],
   "source": [
    "q = np.array([1,0,0])\n",
    "A = np.array([[0.9,0.1,0],[0,0.9,0.1],[0,0,1]])\n",
    "mc = MarkovChain(q,A)\n",
    "\n",
    "g1 = GaussD( means=[0], stdevs=[1] )   # Distribution for state = 1\n",
    "g2 = GaussD( means=[3], stdevs=[2] )   # Distribution for state = 2\n",
    "g3 = GaussD( means=[100], stdevs=[1])  \n",
    "h  = HMM( mc, [g1, g2, g3])                # The HMM\n",
    "# Generate an output sequence\n",
    "\n",
    "T = 5000\n",
    "x,s = h.rand( T )\n",
    "# x = np.array([[-0.2, 2.6, 1.3]])\n",
    "print('The logprob of the data from which HMM generated it:', h.logprob(x))\n",
    "\n",
    "q = np.array([0,1,0])\n",
    "A = np.array([[0.5,0.5,0],[0.3,0.5,0.2],[0.2,0.3,0.5]])\n",
    "mc = MarkovChain(q,A)\n",
    "\n",
    "g1 = GaussD( means=[0], stdevs=[1] )   # Distribution for state = 1\n",
    "g2 = GaussD( means=[10], stdevs=[2] )  # Distribution for state = 2\n",
    "g3 = GaussD( means=[4], stdevs=[10])   # Distribution for state = 3\n",
    "h  = HMM( mc, [g1, g2, g3]) \n",
    "\n",
    "print('The logprob of the data from which HMM not generated it before training:', h.logprob(x))\n",
    "data = []\n",
    "data.append(x)\n",
    "h.train(data,1)"
   ]
  },
  {
   "cell_type": "code",
   "execution_count": 4,
   "id": "1f28f011",
   "metadata": {},
   "outputs": [],
   "source": [
    "# mmcc = h.stateGen\n",
    "# mmcc.is_finite\n",
    "# gausssss = h.outputDistr\n",
    "# print(gausssss[0].means)\n",
    "# print(gausssss[0].cov)\n",
    "# print(gausssss[1].means)\n",
    "# print(gausssss[1].cov)\n",
    "# print(gausssss[2].means)\n",
    "# print(gausssss[2].cov)\n",
    "# h.logprob(x)\n",
    "# print(h.logprob(x))\n",
    "# print(mmcc.q)\n",
    "# print(mmcc.A)"
   ]
  },
  {
   "cell_type": "code",
   "execution_count": 21,
   "id": "c49515e0",
   "metadata": {},
   "outputs": [],
   "source": [
    "import glob \n",
    "import random\n",
    "\n",
    "cross_sample_rate = 0.02\n",
    "\n",
    "blues_all  = glob.glob('Data/genres_original/blues/*.wav')\n",
    "blues_all.sort()\n",
    "blues_train=random.sample(blues_all,int(len(blues_all)*cross_sample_rate))\n",
    "blues_test = []\n",
    "for song in blues_all:\n",
    "    if song not in blues_train:\n",
    "        blues_test.append(song)\n",
    "\n",
    "classical_all  = glob.glob('Data/genres_original/classical/*.wav')\n",
    "classical_all.sort()\n",
    "classical_train=random.sample(classical_all,int(len(classical_all)*cross_sample_rate))\n",
    "classical_test = []\n",
    "for song in classical_all:\n",
    "    if song not in classical_train:\n",
    "        classical_test.append(song)\n",
    "        \n",
    "country_all  = glob.glob('Data/genres_original/country/*.wav')\n",
    "country_all.sort()\n",
    "country_train=random.sample(country_all,int(len(country_all)*cross_sample_rate))\n",
    "country_test = []\n",
    "for song in country_all:\n",
    "    if song not in country_train:\n",
    "        country_test.append(song)\n",
    "        \n",
    "disco_all  = glob.glob('Data/genres_original/disco/*.wav')\n",
    "disco_all.sort()\n",
    "disco_train=random.sample(disco_all,int(len(disco_all)*cross_sample_rate))\n",
    "disco_test = []\n",
    "for song in disco_all:\n",
    "    if song not in disco_train:\n",
    "        disco_test.append(song)\n",
    "        \n",
    "hiphop_all  = glob.glob('Data/genres_original/hiphop/*.wav')\n",
    "hiphop_all.sort()\n",
    "hiphop_train=random.sample(hiphop_all,int(len(hiphop_all)*cross_sample_rate))\n",
    "hiphop_test = []\n",
    "for song in hiphop_all:\n",
    "    if song not in hiphop_train:\n",
    "        hiphop_test.append(song)\n",
    "        \n",
    "jazz_all  = glob.glob('Data/genres_original/jazz/*.wav')\n",
    "jazz_all.sort()\n",
    "jazz_train=random.sample(jazz_all,int(len(jazz_all)*cross_sample_rate))\n",
    "jazz_test = []\n",
    "for song in jazz_all:\n",
    "    if song not in jazz_train:\n",
    "        jazz_test.append(song)\n",
    "\n",
    "mental_all  = glob.glob('Data/genres_original/mental/*.wav')\n",
    "mental_all.sort()\n",
    "mental_train=random.sample(mental_all,int(len(mental_all)*cross_sample_rate))\n",
    "mental_test = []\n",
    "for song in mental_all:\n",
    "    if song not in mental_train:\n",
    "        mental_test.append(song)\n",
    "        \n",
    "pop_all  = glob.glob('Data/genres_original/pop/*.wav')\n",
    "pop_all.sort()\n",
    "pop_train=random.sample(pop_all,int(len(pop_all)*cross_sample_rate))\n",
    "pop_test = []\n",
    "for song in pop_all:\n",
    "    if song not in pop_train:\n",
    "        pop_test.append(song)\n",
    "        \n",
    "reggae_all  = glob.glob('Data/genres_original/reggae/*.wav')\n",
    "reggae_all.sort()\n",
    "reggae_train=random.sample(reggae_all,int(len(disco_all)*cross_sample_rate))\n",
    "reggae_test = []\n",
    "for song in reggae_all:\n",
    "    if song not in reggae_train:\n",
    "        reggae_test.append(song)\n",
    "        \n",
    "rock_all  = glob.glob('Data/genres_original/rock/*.wav')\n",
    "rock_all.sort()\n",
    "rock_train=random.sample(rock_all,int(len(rock_all)*cross_sample_rate))\n",
    "rock_test = []\n",
    "for song in rock_all:\n",
    "    if song not in rock_train:\n",
    "        rock_test.append(song)\n",
    "        \n"
   ]
  },
  {
   "cell_type": "code",
   "execution_count": 22,
   "id": "7197b1e2",
   "metadata": {},
   "outputs": [
    {
     "name": "stdout",
     "output_type": "stream",
     "text": [
      "['Data/genres_original/blues/blues.00000.wav', 'Data/genres_original/blues/blues.00001.wav', 'Data/genres_original/blues/blues.00002.wav', 'Data/genres_original/blues/blues.00003.wav', 'Data/genres_original/blues/blues.00004.wav', 'Data/genres_original/blues/blues.00005.wav', 'Data/genres_original/blues/blues.00006.wav', 'Data/genres_original/blues/blues.00007.wav', 'Data/genres_original/blues/blues.00008.wav', 'Data/genres_original/blues/blues.00009.wav', 'Data/genres_original/blues/blues.00010.wav', 'Data/genres_original/blues/blues.00011.wav', 'Data/genres_original/blues/blues.00012.wav', 'Data/genres_original/blues/blues.00013.wav', 'Data/genres_original/blues/blues.00014.wav', 'Data/genres_original/blues/blues.00015.wav', 'Data/genres_original/blues/blues.00016.wav', 'Data/genres_original/blues/blues.00017.wav', 'Data/genres_original/blues/blues.00018.wav', 'Data/genres_original/blues/blues.00019.wav', 'Data/genres_original/blues/blues.00020.wav', 'Data/genres_original/blues/blues.00021.wav', 'Data/genres_original/blues/blues.00022.wav', 'Data/genres_original/blues/blues.00023.wav', 'Data/genres_original/blues/blues.00024.wav', 'Data/genres_original/blues/blues.00025.wav', 'Data/genres_original/blues/blues.00026.wav', 'Data/genres_original/blues/blues.00027.wav', 'Data/genres_original/blues/blues.00028.wav', 'Data/genres_original/blues/blues.00029.wav', 'Data/genres_original/blues/blues.00030.wav', 'Data/genres_original/blues/blues.00031.wav', 'Data/genres_original/blues/blues.00032.wav', 'Data/genres_original/blues/blues.00033.wav', 'Data/genres_original/blues/blues.00034.wav', 'Data/genres_original/blues/blues.00035.wav', 'Data/genres_original/blues/blues.00036.wav', 'Data/genres_original/blues/blues.00037.wav', 'Data/genres_original/blues/blues.00038.wav', 'Data/genres_original/blues/blues.00039.wav', 'Data/genres_original/blues/blues.00040.wav', 'Data/genres_original/blues/blues.00041.wav', 'Data/genres_original/blues/blues.00042.wav', 'Data/genres_original/blues/blues.00043.wav', 'Data/genres_original/blues/blues.00044.wav', 'Data/genres_original/blues/blues.00045.wav', 'Data/genres_original/blues/blues.00046.wav', 'Data/genres_original/blues/blues.00047.wav', 'Data/genres_original/blues/blues.00048.wav', 'Data/genres_original/blues/blues.00049.wav', 'Data/genres_original/blues/blues.00050.wav', 'Data/genres_original/blues/blues.00051.wav', 'Data/genres_original/blues/blues.00052.wav', 'Data/genres_original/blues/blues.00053.wav', 'Data/genres_original/blues/blues.00054.wav', 'Data/genres_original/blues/blues.00055.wav', 'Data/genres_original/blues/blues.00056.wav', 'Data/genres_original/blues/blues.00057.wav', 'Data/genres_original/blues/blues.00058.wav', 'Data/genres_original/blues/blues.00059.wav', 'Data/genres_original/blues/blues.00060.wav', 'Data/genres_original/blues/blues.00061.wav', 'Data/genres_original/blues/blues.00062.wav', 'Data/genres_original/blues/blues.00063.wav', 'Data/genres_original/blues/blues.00064.wav', 'Data/genres_original/blues/blues.00065.wav', 'Data/genres_original/blues/blues.00066.wav', 'Data/genres_original/blues/blues.00067.wav', 'Data/genres_original/blues/blues.00068.wav', 'Data/genres_original/blues/blues.00069.wav', 'Data/genres_original/blues/blues.00070.wav', 'Data/genres_original/blues/blues.00071.wav', 'Data/genres_original/blues/blues.00072.wav', 'Data/genres_original/blues/blues.00073.wav', 'Data/genres_original/blues/blues.00074.wav', 'Data/genres_original/blues/blues.00075.wav', 'Data/genres_original/blues/blues.00076.wav', 'Data/genres_original/blues/blues.00077.wav', 'Data/genres_original/blues/blues.00078.wav', 'Data/genres_original/blues/blues.00079.wav', 'Data/genres_original/blues/blues.00080.wav', 'Data/genres_original/blues/blues.00081.wav', 'Data/genres_original/blues/blues.00082.wav', 'Data/genres_original/blues/blues.00083.wav', 'Data/genres_original/blues/blues.00084.wav', 'Data/genres_original/blues/blues.00085.wav', 'Data/genres_original/blues/blues.00086.wav', 'Data/genres_original/blues/blues.00087.wav', 'Data/genres_original/blues/blues.00088.wav', 'Data/genres_original/blues/blues.00089.wav', 'Data/genres_original/blues/blues.00090.wav', 'Data/genres_original/blues/blues.00091.wav', 'Data/genres_original/blues/blues.00092.wav', 'Data/genres_original/blues/blues.00093.wav', 'Data/genres_original/blues/blues.00094.wav', 'Data/genres_original/blues/blues.00095.wav', 'Data/genres_original/blues/blues.00096.wav', 'Data/genres_original/blues/blues.00097.wav', 'Data/genres_original/blues/blues.00098.wav', 'Data/genres_original/blues/blues.00099.wav'] ['Data/genres_original/classical/classical.00000.wav', 'Data/genres_original/classical/classical.00001.wav', 'Data/genres_original/classical/classical.00002.wav', 'Data/genres_original/classical/classical.00003.wav', 'Data/genres_original/classical/classical.00004.wav', 'Data/genres_original/classical/classical.00005.wav', 'Data/genres_original/classical/classical.00006.wav', 'Data/genres_original/classical/classical.00007.wav', 'Data/genres_original/classical/classical.00008.wav', 'Data/genres_original/classical/classical.00009.wav', 'Data/genres_original/classical/classical.00010.wav', 'Data/genres_original/classical/classical.00011.wav', 'Data/genres_original/classical/classical.00012.wav', 'Data/genres_original/classical/classical.00013.wav', 'Data/genres_original/classical/classical.00014.wav', 'Data/genres_original/classical/classical.00015.wav', 'Data/genres_original/classical/classical.00016.wav', 'Data/genres_original/classical/classical.00017.wav', 'Data/genres_original/classical/classical.00018.wav', 'Data/genres_original/classical/classical.00019.wav', 'Data/genres_original/classical/classical.00020.wav', 'Data/genres_original/classical/classical.00021.wav', 'Data/genres_original/classical/classical.00022.wav', 'Data/genres_original/classical/classical.00023.wav', 'Data/genres_original/classical/classical.00024.wav', 'Data/genres_original/classical/classical.00025.wav', 'Data/genres_original/classical/classical.00026.wav', 'Data/genres_original/classical/classical.00027.wav', 'Data/genres_original/classical/classical.00028.wav', 'Data/genres_original/classical/classical.00029.wav', 'Data/genres_original/classical/classical.00030.wav', 'Data/genres_original/classical/classical.00031.wav', 'Data/genres_original/classical/classical.00032.wav', 'Data/genres_original/classical/classical.00033.wav', 'Data/genres_original/classical/classical.00034.wav', 'Data/genres_original/classical/classical.00035.wav', 'Data/genres_original/classical/classical.00036.wav', 'Data/genres_original/classical/classical.00037.wav', 'Data/genres_original/classical/classical.00038.wav', 'Data/genres_original/classical/classical.00039.wav', 'Data/genres_original/classical/classical.00040.wav', 'Data/genres_original/classical/classical.00041.wav', 'Data/genres_original/classical/classical.00042.wav', 'Data/genres_original/classical/classical.00043.wav', 'Data/genres_original/classical/classical.00044.wav', 'Data/genres_original/classical/classical.00045.wav', 'Data/genres_original/classical/classical.00046.wav', 'Data/genres_original/classical/classical.00047.wav', 'Data/genres_original/classical/classical.00048.wav', 'Data/genres_original/classical/classical.00049.wav', 'Data/genres_original/classical/classical.00050.wav', 'Data/genres_original/classical/classical.00051.wav', 'Data/genres_original/classical/classical.00052.wav', 'Data/genres_original/classical/classical.00053.wav', 'Data/genres_original/classical/classical.00054.wav', 'Data/genres_original/classical/classical.00055.wav', 'Data/genres_original/classical/classical.00056.wav', 'Data/genres_original/classical/classical.00057.wav', 'Data/genres_original/classical/classical.00058.wav', 'Data/genres_original/classical/classical.00059.wav', 'Data/genres_original/classical/classical.00060.wav', 'Data/genres_original/classical/classical.00061.wav', 'Data/genres_original/classical/classical.00062.wav', 'Data/genres_original/classical/classical.00063.wav', 'Data/genres_original/classical/classical.00064.wav', 'Data/genres_original/classical/classical.00065.wav', 'Data/genres_original/classical/classical.00066.wav', 'Data/genres_original/classical/classical.00067.wav', 'Data/genres_original/classical/classical.00068.wav', 'Data/genres_original/classical/classical.00069.wav', 'Data/genres_original/classical/classical.00070.wav', 'Data/genres_original/classical/classical.00071.wav', 'Data/genres_original/classical/classical.00072.wav', 'Data/genres_original/classical/classical.00073.wav', 'Data/genres_original/classical/classical.00074.wav', 'Data/genres_original/classical/classical.00075.wav', 'Data/genres_original/classical/classical.00076.wav', 'Data/genres_original/classical/classical.00077.wav', 'Data/genres_original/classical/classical.00078.wav', 'Data/genres_original/classical/classical.00079.wav', 'Data/genres_original/classical/classical.00080.wav', 'Data/genres_original/classical/classical.00081.wav', 'Data/genres_original/classical/classical.00082.wav', 'Data/genres_original/classical/classical.00083.wav', 'Data/genres_original/classical/classical.00084.wav', 'Data/genres_original/classical/classical.00085.wav', 'Data/genres_original/classical/classical.00086.wav', 'Data/genres_original/classical/classical.00087.wav', 'Data/genres_original/classical/classical.00088.wav', 'Data/genres_original/classical/classical.00089.wav', 'Data/genres_original/classical/classical.00090.wav', 'Data/genres_original/classical/classical.00091.wav', 'Data/genres_original/classical/classical.00092.wav', 'Data/genres_original/classical/classical.00093.wav', 'Data/genres_original/classical/classical.00094.wav', 'Data/genres_original/classical/classical.00095.wav', 'Data/genres_original/classical/classical.00096.wav', 'Data/genres_original/classical/classical.00097.wav', 'Data/genres_original/classical/classical.00098.wav', 'Data/genres_original/classical/classical.00099.wav'] ['Data/genres_original/country/country.00000.wav', 'Data/genres_original/country/country.00001.wav', 'Data/genres_original/country/country.00002.wav', 'Data/genres_original/country/country.00003.wav', 'Data/genres_original/country/country.00004.wav', 'Data/genres_original/country/country.00005.wav', 'Data/genres_original/country/country.00006.wav', 'Data/genres_original/country/country.00007.wav', 'Data/genres_original/country/country.00008.wav', 'Data/genres_original/country/country.00009.wav', 'Data/genres_original/country/country.00010.wav', 'Data/genres_original/country/country.00011.wav', 'Data/genres_original/country/country.00012.wav', 'Data/genres_original/country/country.00013.wav', 'Data/genres_original/country/country.00014.wav', 'Data/genres_original/country/country.00015.wav', 'Data/genres_original/country/country.00016.wav', 'Data/genres_original/country/country.00017.wav', 'Data/genres_original/country/country.00018.wav', 'Data/genres_original/country/country.00019.wav', 'Data/genres_original/country/country.00020.wav', 'Data/genres_original/country/country.00021.wav', 'Data/genres_original/country/country.00022.wav', 'Data/genres_original/country/country.00023.wav', 'Data/genres_original/country/country.00024.wav', 'Data/genres_original/country/country.00025.wav', 'Data/genres_original/country/country.00026.wav', 'Data/genres_original/country/country.00027.wav', 'Data/genres_original/country/country.00028.wav', 'Data/genres_original/country/country.00029.wav', 'Data/genres_original/country/country.00030.wav', 'Data/genres_original/country/country.00031.wav', 'Data/genres_original/country/country.00032.wav', 'Data/genres_original/country/country.00033.wav', 'Data/genres_original/country/country.00034.wav', 'Data/genres_original/country/country.00035.wav', 'Data/genres_original/country/country.00036.wav', 'Data/genres_original/country/country.00037.wav', 'Data/genres_original/country/country.00038.wav', 'Data/genres_original/country/country.00039.wav', 'Data/genres_original/country/country.00040.wav', 'Data/genres_original/country/country.00041.wav', 'Data/genres_original/country/country.00042.wav', 'Data/genres_original/country/country.00043.wav', 'Data/genres_original/country/country.00044.wav', 'Data/genres_original/country/country.00045.wav', 'Data/genres_original/country/country.00046.wav', 'Data/genres_original/country/country.00047.wav', 'Data/genres_original/country/country.00048.wav', 'Data/genres_original/country/country.00049.wav', 'Data/genres_original/country/country.00050.wav', 'Data/genres_original/country/country.00051.wav', 'Data/genres_original/country/country.00052.wav', 'Data/genres_original/country/country.00053.wav', 'Data/genres_original/country/country.00054.wav', 'Data/genres_original/country/country.00055.wav', 'Data/genres_original/country/country.00056.wav', 'Data/genres_original/country/country.00057.wav', 'Data/genres_original/country/country.00058.wav', 'Data/genres_original/country/country.00059.wav', 'Data/genres_original/country/country.00060.wav', 'Data/genres_original/country/country.00061.wav', 'Data/genres_original/country/country.00062.wav', 'Data/genres_original/country/country.00063.wav', 'Data/genres_original/country/country.00064.wav', 'Data/genres_original/country/country.00065.wav', 'Data/genres_original/country/country.00066.wav', 'Data/genres_original/country/country.00067.wav', 'Data/genres_original/country/country.00068.wav', 'Data/genres_original/country/country.00069.wav', 'Data/genres_original/country/country.00070.wav', 'Data/genres_original/country/country.00071.wav', 'Data/genres_original/country/country.00072.wav', 'Data/genres_original/country/country.00073.wav', 'Data/genres_original/country/country.00074.wav', 'Data/genres_original/country/country.00075.wav', 'Data/genres_original/country/country.00076.wav', 'Data/genres_original/country/country.00077.wav', 'Data/genres_original/country/country.00078.wav', 'Data/genres_original/country/country.00079.wav', 'Data/genres_original/country/country.00080.wav', 'Data/genres_original/country/country.00081.wav', 'Data/genres_original/country/country.00082.wav', 'Data/genres_original/country/country.00083.wav', 'Data/genres_original/country/country.00084.wav', 'Data/genres_original/country/country.00085.wav', 'Data/genres_original/country/country.00086.wav', 'Data/genres_original/country/country.00087.wav', 'Data/genres_original/country/country.00088.wav', 'Data/genres_original/country/country.00089.wav', 'Data/genres_original/country/country.00090.wav', 'Data/genres_original/country/country.00091.wav', 'Data/genres_original/country/country.00092.wav', 'Data/genres_original/country/country.00093.wav', 'Data/genres_original/country/country.00094.wav', 'Data/genres_original/country/country.00095.wav', 'Data/genres_original/country/country.00096.wav', 'Data/genres_original/country/country.00097.wav', 'Data/genres_original/country/country.00098.wav', 'Data/genres_original/country/country.00099.wav'] ['Data/genres_original/disco/disco.00000.wav', 'Data/genres_original/disco/disco.00001.wav', 'Data/genres_original/disco/disco.00002.wav', 'Data/genres_original/disco/disco.00003.wav', 'Data/genres_original/disco/disco.00004.wav', 'Data/genres_original/disco/disco.00005.wav', 'Data/genres_original/disco/disco.00006.wav', 'Data/genres_original/disco/disco.00007.wav', 'Data/genres_original/disco/disco.00008.wav', 'Data/genres_original/disco/disco.00009.wav', 'Data/genres_original/disco/disco.00010.wav', 'Data/genres_original/disco/disco.00011.wav', 'Data/genres_original/disco/disco.00012.wav', 'Data/genres_original/disco/disco.00013.wav', 'Data/genres_original/disco/disco.00014.wav', 'Data/genres_original/disco/disco.00015.wav', 'Data/genres_original/disco/disco.00016.wav', 'Data/genres_original/disco/disco.00017.wav', 'Data/genres_original/disco/disco.00018.wav', 'Data/genres_original/disco/disco.00019.wav', 'Data/genres_original/disco/disco.00020.wav', 'Data/genres_original/disco/disco.00021.wav', 'Data/genres_original/disco/disco.00022.wav', 'Data/genres_original/disco/disco.00023.wav', 'Data/genres_original/disco/disco.00024.wav', 'Data/genres_original/disco/disco.00025.wav', 'Data/genres_original/disco/disco.00026.wav', 'Data/genres_original/disco/disco.00027.wav', 'Data/genres_original/disco/disco.00028.wav', 'Data/genres_original/disco/disco.00029.wav', 'Data/genres_original/disco/disco.00030.wav', 'Data/genres_original/disco/disco.00031.wav', 'Data/genres_original/disco/disco.00032.wav', 'Data/genres_original/disco/disco.00033.wav', 'Data/genres_original/disco/disco.00034.wav', 'Data/genres_original/disco/disco.00035.wav', 'Data/genres_original/disco/disco.00036.wav', 'Data/genres_original/disco/disco.00037.wav', 'Data/genres_original/disco/disco.00038.wav', 'Data/genres_original/disco/disco.00039.wav', 'Data/genres_original/disco/disco.00040.wav', 'Data/genres_original/disco/disco.00041.wav', 'Data/genres_original/disco/disco.00042.wav', 'Data/genres_original/disco/disco.00043.wav', 'Data/genres_original/disco/disco.00044.wav', 'Data/genres_original/disco/disco.00045.wav', 'Data/genres_original/disco/disco.00046.wav', 'Data/genres_original/disco/disco.00047.wav', 'Data/genres_original/disco/disco.00048.wav', 'Data/genres_original/disco/disco.00049.wav', 'Data/genres_original/disco/disco.00050.wav', 'Data/genres_original/disco/disco.00051.wav', 'Data/genres_original/disco/disco.00052.wav', 'Data/genres_original/disco/disco.00053.wav', 'Data/genres_original/disco/disco.00054.wav', 'Data/genres_original/disco/disco.00055.wav', 'Data/genres_original/disco/disco.00056.wav', 'Data/genres_original/disco/disco.00057.wav', 'Data/genres_original/disco/disco.00058.wav', 'Data/genres_original/disco/disco.00059.wav', 'Data/genres_original/disco/disco.00060.wav', 'Data/genres_original/disco/disco.00061.wav', 'Data/genres_original/disco/disco.00062.wav', 'Data/genres_original/disco/disco.00063.wav', 'Data/genres_original/disco/disco.00064.wav', 'Data/genres_original/disco/disco.00065.wav', 'Data/genres_original/disco/disco.00066.wav', 'Data/genres_original/disco/disco.00067.wav', 'Data/genres_original/disco/disco.00068.wav', 'Data/genres_original/disco/disco.00069.wav', 'Data/genres_original/disco/disco.00070.wav', 'Data/genres_original/disco/disco.00071.wav', 'Data/genres_original/disco/disco.00072.wav', 'Data/genres_original/disco/disco.00073.wav', 'Data/genres_original/disco/disco.00074.wav', 'Data/genres_original/disco/disco.00075.wav', 'Data/genres_original/disco/disco.00076.wav', 'Data/genres_original/disco/disco.00077.wav', 'Data/genres_original/disco/disco.00078.wav', 'Data/genres_original/disco/disco.00079.wav', 'Data/genres_original/disco/disco.00080.wav', 'Data/genres_original/disco/disco.00081.wav', 'Data/genres_original/disco/disco.00082.wav', 'Data/genres_original/disco/disco.00083.wav', 'Data/genres_original/disco/disco.00084.wav', 'Data/genres_original/disco/disco.00085.wav', 'Data/genres_original/disco/disco.00086.wav', 'Data/genres_original/disco/disco.00087.wav', 'Data/genres_original/disco/disco.00088.wav', 'Data/genres_original/disco/disco.00089.wav', 'Data/genres_original/disco/disco.00090.wav', 'Data/genres_original/disco/disco.00091.wav', 'Data/genres_original/disco/disco.00092.wav', 'Data/genres_original/disco/disco.00093.wav', 'Data/genres_original/disco/disco.00094.wav', 'Data/genres_original/disco/disco.00095.wav', 'Data/genres_original/disco/disco.00096.wav', 'Data/genres_original/disco/disco.00097.wav', 'Data/genres_original/disco/disco.00098.wav', 'Data/genres_original/disco/disco.00099.wav'] ['Data/genres_original/hiphop/hiphop.00000.wav', 'Data/genres_original/hiphop/hiphop.00001.wav', 'Data/genres_original/hiphop/hiphop.00002.wav', 'Data/genres_original/hiphop/hiphop.00003.wav', 'Data/genres_original/hiphop/hiphop.00004.wav', 'Data/genres_original/hiphop/hiphop.00005.wav', 'Data/genres_original/hiphop/hiphop.00006.wav', 'Data/genres_original/hiphop/hiphop.00007.wav', 'Data/genres_original/hiphop/hiphop.00008.wav', 'Data/genres_original/hiphop/hiphop.00009.wav', 'Data/genres_original/hiphop/hiphop.00010.wav', 'Data/genres_original/hiphop/hiphop.00011.wav', 'Data/genres_original/hiphop/hiphop.00012.wav', 'Data/genres_original/hiphop/hiphop.00013.wav', 'Data/genres_original/hiphop/hiphop.00014.wav', 'Data/genres_original/hiphop/hiphop.00015.wav', 'Data/genres_original/hiphop/hiphop.00016.wav', 'Data/genres_original/hiphop/hiphop.00017.wav', 'Data/genres_original/hiphop/hiphop.00018.wav', 'Data/genres_original/hiphop/hiphop.00019.wav', 'Data/genres_original/hiphop/hiphop.00020.wav', 'Data/genres_original/hiphop/hiphop.00021.wav', 'Data/genres_original/hiphop/hiphop.00022.wav', 'Data/genres_original/hiphop/hiphop.00023.wav', 'Data/genres_original/hiphop/hiphop.00024.wav', 'Data/genres_original/hiphop/hiphop.00025.wav', 'Data/genres_original/hiphop/hiphop.00026.wav', 'Data/genres_original/hiphop/hiphop.00027.wav', 'Data/genres_original/hiphop/hiphop.00028.wav', 'Data/genres_original/hiphop/hiphop.00029.wav', 'Data/genres_original/hiphop/hiphop.00030.wav', 'Data/genres_original/hiphop/hiphop.00031.wav', 'Data/genres_original/hiphop/hiphop.00032.wav', 'Data/genres_original/hiphop/hiphop.00033.wav', 'Data/genres_original/hiphop/hiphop.00034.wav', 'Data/genres_original/hiphop/hiphop.00035.wav', 'Data/genres_original/hiphop/hiphop.00036.wav', 'Data/genres_original/hiphop/hiphop.00037.wav', 'Data/genres_original/hiphop/hiphop.00038.wav', 'Data/genres_original/hiphop/hiphop.00039.wav', 'Data/genres_original/hiphop/hiphop.00040.wav', 'Data/genres_original/hiphop/hiphop.00041.wav', 'Data/genres_original/hiphop/hiphop.00042.wav', 'Data/genres_original/hiphop/hiphop.00043.wav', 'Data/genres_original/hiphop/hiphop.00044.wav', 'Data/genres_original/hiphop/hiphop.00045.wav', 'Data/genres_original/hiphop/hiphop.00046.wav', 'Data/genres_original/hiphop/hiphop.00047.wav', 'Data/genres_original/hiphop/hiphop.00048.wav', 'Data/genres_original/hiphop/hiphop.00049.wav', 'Data/genres_original/hiphop/hiphop.00050.wav', 'Data/genres_original/hiphop/hiphop.00051.wav', 'Data/genres_original/hiphop/hiphop.00052.wav', 'Data/genres_original/hiphop/hiphop.00053.wav', 'Data/genres_original/hiphop/hiphop.00054.wav', 'Data/genres_original/hiphop/hiphop.00055.wav', 'Data/genres_original/hiphop/hiphop.00056.wav', 'Data/genres_original/hiphop/hiphop.00057.wav', 'Data/genres_original/hiphop/hiphop.00058.wav', 'Data/genres_original/hiphop/hiphop.00059.wav', 'Data/genres_original/hiphop/hiphop.00060.wav', 'Data/genres_original/hiphop/hiphop.00061.wav', 'Data/genres_original/hiphop/hiphop.00062.wav', 'Data/genres_original/hiphop/hiphop.00063.wav', 'Data/genres_original/hiphop/hiphop.00064.wav', 'Data/genres_original/hiphop/hiphop.00065.wav', 'Data/genres_original/hiphop/hiphop.00066.wav', 'Data/genres_original/hiphop/hiphop.00067.wav', 'Data/genres_original/hiphop/hiphop.00068.wav', 'Data/genres_original/hiphop/hiphop.00069.wav', 'Data/genres_original/hiphop/hiphop.00070.wav', 'Data/genres_original/hiphop/hiphop.00071.wav', 'Data/genres_original/hiphop/hiphop.00072.wav', 'Data/genres_original/hiphop/hiphop.00073.wav', 'Data/genres_original/hiphop/hiphop.00074.wav', 'Data/genres_original/hiphop/hiphop.00075.wav', 'Data/genres_original/hiphop/hiphop.00076.wav', 'Data/genres_original/hiphop/hiphop.00077.wav', 'Data/genres_original/hiphop/hiphop.00078.wav', 'Data/genres_original/hiphop/hiphop.00079.wav', 'Data/genres_original/hiphop/hiphop.00080.wav', 'Data/genres_original/hiphop/hiphop.00081.wav', 'Data/genres_original/hiphop/hiphop.00082.wav', 'Data/genres_original/hiphop/hiphop.00083.wav', 'Data/genres_original/hiphop/hiphop.00084.wav', 'Data/genres_original/hiphop/hiphop.00085.wav', 'Data/genres_original/hiphop/hiphop.00086.wav', 'Data/genres_original/hiphop/hiphop.00087.wav', 'Data/genres_original/hiphop/hiphop.00088.wav', 'Data/genres_original/hiphop/hiphop.00089.wav', 'Data/genres_original/hiphop/hiphop.00090.wav', 'Data/genres_original/hiphop/hiphop.00091.wav', 'Data/genres_original/hiphop/hiphop.00092.wav', 'Data/genres_original/hiphop/hiphop.00093.wav', 'Data/genres_original/hiphop/hiphop.00094.wav', 'Data/genres_original/hiphop/hiphop.00095.wav', 'Data/genres_original/hiphop/hiphop.00096.wav', 'Data/genres_original/hiphop/hiphop.00097.wav', 'Data/genres_original/hiphop/hiphop.00098.wav', 'Data/genres_original/hiphop/hiphop.00099.wav'] ['Data/genres_original/jazz/jazz.00000.wav', 'Data/genres_original/jazz/jazz.00001.wav', 'Data/genres_original/jazz/jazz.00002.wav', 'Data/genres_original/jazz/jazz.00003.wav', 'Data/genres_original/jazz/jazz.00004.wav', 'Data/genres_original/jazz/jazz.00005.wav', 'Data/genres_original/jazz/jazz.00006.wav', 'Data/genres_original/jazz/jazz.00007.wav', 'Data/genres_original/jazz/jazz.00008.wav', 'Data/genres_original/jazz/jazz.00009.wav', 'Data/genres_original/jazz/jazz.00010.wav', 'Data/genres_original/jazz/jazz.00011.wav', 'Data/genres_original/jazz/jazz.00012.wav', 'Data/genres_original/jazz/jazz.00013.wav', 'Data/genres_original/jazz/jazz.00014.wav', 'Data/genres_original/jazz/jazz.00015.wav', 'Data/genres_original/jazz/jazz.00016.wav', 'Data/genres_original/jazz/jazz.00017.wav', 'Data/genres_original/jazz/jazz.00018.wav', 'Data/genres_original/jazz/jazz.00019.wav', 'Data/genres_original/jazz/jazz.00020.wav', 'Data/genres_original/jazz/jazz.00021.wav', 'Data/genres_original/jazz/jazz.00022.wav', 'Data/genres_original/jazz/jazz.00023.wav', 'Data/genres_original/jazz/jazz.00024.wav', 'Data/genres_original/jazz/jazz.00025.wav', 'Data/genres_original/jazz/jazz.00026.wav', 'Data/genres_original/jazz/jazz.00027.wav', 'Data/genres_original/jazz/jazz.00028.wav', 'Data/genres_original/jazz/jazz.00029.wav', 'Data/genres_original/jazz/jazz.00030.wav', 'Data/genres_original/jazz/jazz.00031.wav', 'Data/genres_original/jazz/jazz.00032.wav', 'Data/genres_original/jazz/jazz.00033.wav', 'Data/genres_original/jazz/jazz.00034.wav', 'Data/genres_original/jazz/jazz.00035.wav', 'Data/genres_original/jazz/jazz.00036.wav', 'Data/genres_original/jazz/jazz.00037.wav', 'Data/genres_original/jazz/jazz.00038.wav', 'Data/genres_original/jazz/jazz.00039.wav', 'Data/genres_original/jazz/jazz.00040.wav', 'Data/genres_original/jazz/jazz.00041.wav', 'Data/genres_original/jazz/jazz.00042.wav', 'Data/genres_original/jazz/jazz.00043.wav', 'Data/genres_original/jazz/jazz.00044.wav', 'Data/genres_original/jazz/jazz.00045.wav', 'Data/genres_original/jazz/jazz.00046.wav', 'Data/genres_original/jazz/jazz.00047.wav', 'Data/genres_original/jazz/jazz.00048.wav', 'Data/genres_original/jazz/jazz.00049.wav', 'Data/genres_original/jazz/jazz.00050.wav', 'Data/genres_original/jazz/jazz.00051.wav', 'Data/genres_original/jazz/jazz.00052.wav', 'Data/genres_original/jazz/jazz.00053.wav', 'Data/genres_original/jazz/jazz.00054.wav', 'Data/genres_original/jazz/jazz.00055.wav', 'Data/genres_original/jazz/jazz.00056.wav', 'Data/genres_original/jazz/jazz.00057.wav', 'Data/genres_original/jazz/jazz.00058.wav', 'Data/genres_original/jazz/jazz.00059.wav', 'Data/genres_original/jazz/jazz.00060.wav', 'Data/genres_original/jazz/jazz.00061.wav', 'Data/genres_original/jazz/jazz.00062.wav', 'Data/genres_original/jazz/jazz.00063.wav', 'Data/genres_original/jazz/jazz.00064.wav', 'Data/genres_original/jazz/jazz.00065.wav', 'Data/genres_original/jazz/jazz.00066.wav', 'Data/genres_original/jazz/jazz.00067.wav', 'Data/genres_original/jazz/jazz.00068.wav', 'Data/genres_original/jazz/jazz.00069.wav', 'Data/genres_original/jazz/jazz.00070.wav', 'Data/genres_original/jazz/jazz.00071.wav', 'Data/genres_original/jazz/jazz.00072.wav', 'Data/genres_original/jazz/jazz.00073.wav', 'Data/genres_original/jazz/jazz.00074.wav', 'Data/genres_original/jazz/jazz.00075.wav', 'Data/genres_original/jazz/jazz.00076.wav', 'Data/genres_original/jazz/jazz.00077.wav', 'Data/genres_original/jazz/jazz.00078.wav', 'Data/genres_original/jazz/jazz.00079.wav', 'Data/genres_original/jazz/jazz.00080.wav', 'Data/genres_original/jazz/jazz.00081.wav', 'Data/genres_original/jazz/jazz.00082.wav', 'Data/genres_original/jazz/jazz.00083.wav', 'Data/genres_original/jazz/jazz.00084.wav', 'Data/genres_original/jazz/jazz.00085.wav', 'Data/genres_original/jazz/jazz.00086.wav', 'Data/genres_original/jazz/jazz.00087.wav', 'Data/genres_original/jazz/jazz.00088.wav', 'Data/genres_original/jazz/jazz.00089.wav', 'Data/genres_original/jazz/jazz.00090.wav', 'Data/genres_original/jazz/jazz.00091.wav', 'Data/genres_original/jazz/jazz.00092.wav', 'Data/genres_original/jazz/jazz.00093.wav', 'Data/genres_original/jazz/jazz.00094.wav', 'Data/genres_original/jazz/jazz.00095.wav', 'Data/genres_original/jazz/jazz.00096.wav', 'Data/genres_original/jazz/jazz.00097.wav', 'Data/genres_original/jazz/jazz.00098.wav', 'Data/genres_original/jazz/jazz.00099.wav'] [] ['Data/genres_original/pop/pop.00000.wav', 'Data/genres_original/pop/pop.00001.wav', 'Data/genres_original/pop/pop.00002.wav', 'Data/genres_original/pop/pop.00003.wav', 'Data/genres_original/pop/pop.00004.wav', 'Data/genres_original/pop/pop.00005.wav', 'Data/genres_original/pop/pop.00006.wav', 'Data/genres_original/pop/pop.00007.wav', 'Data/genres_original/pop/pop.00008.wav', 'Data/genres_original/pop/pop.00009.wav', 'Data/genres_original/pop/pop.00010.wav', 'Data/genres_original/pop/pop.00011.wav', 'Data/genres_original/pop/pop.00012.wav', 'Data/genres_original/pop/pop.00013.wav', 'Data/genres_original/pop/pop.00014.wav', 'Data/genres_original/pop/pop.00015.wav', 'Data/genres_original/pop/pop.00016.wav', 'Data/genres_original/pop/pop.00017.wav', 'Data/genres_original/pop/pop.00018.wav', 'Data/genres_original/pop/pop.00019.wav', 'Data/genres_original/pop/pop.00020.wav', 'Data/genres_original/pop/pop.00021.wav', 'Data/genres_original/pop/pop.00022.wav', 'Data/genres_original/pop/pop.00023.wav', 'Data/genres_original/pop/pop.00024.wav', 'Data/genres_original/pop/pop.00025.wav', 'Data/genres_original/pop/pop.00026.wav', 'Data/genres_original/pop/pop.00027.wav', 'Data/genres_original/pop/pop.00028.wav', 'Data/genres_original/pop/pop.00029.wav', 'Data/genres_original/pop/pop.00030.wav', 'Data/genres_original/pop/pop.00031.wav', 'Data/genres_original/pop/pop.00032.wav', 'Data/genres_original/pop/pop.00033.wav', 'Data/genres_original/pop/pop.00034.wav', 'Data/genres_original/pop/pop.00035.wav', 'Data/genres_original/pop/pop.00036.wav', 'Data/genres_original/pop/pop.00037.wav', 'Data/genres_original/pop/pop.00038.wav', 'Data/genres_original/pop/pop.00039.wav', 'Data/genres_original/pop/pop.00040.wav', 'Data/genres_original/pop/pop.00041.wav', 'Data/genres_original/pop/pop.00042.wav', 'Data/genres_original/pop/pop.00043.wav', 'Data/genres_original/pop/pop.00044.wav', 'Data/genres_original/pop/pop.00045.wav', 'Data/genres_original/pop/pop.00046.wav', 'Data/genres_original/pop/pop.00047.wav', 'Data/genres_original/pop/pop.00048.wav', 'Data/genres_original/pop/pop.00049.wav', 'Data/genres_original/pop/pop.00050.wav', 'Data/genres_original/pop/pop.00051.wav', 'Data/genres_original/pop/pop.00052.wav', 'Data/genres_original/pop/pop.00053.wav', 'Data/genres_original/pop/pop.00054.wav', 'Data/genres_original/pop/pop.00055.wav', 'Data/genres_original/pop/pop.00056.wav', 'Data/genres_original/pop/pop.00057.wav', 'Data/genres_original/pop/pop.00058.wav', 'Data/genres_original/pop/pop.00059.wav', 'Data/genres_original/pop/pop.00060.wav', 'Data/genres_original/pop/pop.00061.wav', 'Data/genres_original/pop/pop.00062.wav', 'Data/genres_original/pop/pop.00063.wav', 'Data/genres_original/pop/pop.00064.wav', 'Data/genres_original/pop/pop.00065.wav', 'Data/genres_original/pop/pop.00066.wav', 'Data/genres_original/pop/pop.00067.wav', 'Data/genres_original/pop/pop.00068.wav', 'Data/genres_original/pop/pop.00069.wav', 'Data/genres_original/pop/pop.00070.wav', 'Data/genres_original/pop/pop.00071.wav', 'Data/genres_original/pop/pop.00072.wav', 'Data/genres_original/pop/pop.00073.wav', 'Data/genres_original/pop/pop.00074.wav', 'Data/genres_original/pop/pop.00075.wav', 'Data/genres_original/pop/pop.00076.wav', 'Data/genres_original/pop/pop.00077.wav', 'Data/genres_original/pop/pop.00078.wav', 'Data/genres_original/pop/pop.00079.wav', 'Data/genres_original/pop/pop.00080.wav', 'Data/genres_original/pop/pop.00081.wav', 'Data/genres_original/pop/pop.00082.wav', 'Data/genres_original/pop/pop.00083.wav', 'Data/genres_original/pop/pop.00084.wav', 'Data/genres_original/pop/pop.00085.wav', 'Data/genres_original/pop/pop.00086.wav', 'Data/genres_original/pop/pop.00087.wav', 'Data/genres_original/pop/pop.00088.wav', 'Data/genres_original/pop/pop.00089.wav', 'Data/genres_original/pop/pop.00090.wav', 'Data/genres_original/pop/pop.00091.wav', 'Data/genres_original/pop/pop.00092.wav', 'Data/genres_original/pop/pop.00093.wav', 'Data/genres_original/pop/pop.00094.wav', 'Data/genres_original/pop/pop.00095.wav', 'Data/genres_original/pop/pop.00096.wav', 'Data/genres_original/pop/pop.00097.wav', 'Data/genres_original/pop/pop.00098.wav', 'Data/genres_original/pop/pop.00099.wav'] ['Data/genres_original/reggae/reggae.00000.wav', 'Data/genres_original/reggae/reggae.00001.wav', 'Data/genres_original/reggae/reggae.00002.wav', 'Data/genres_original/reggae/reggae.00003.wav', 'Data/genres_original/reggae/reggae.00004.wav', 'Data/genres_original/reggae/reggae.00005.wav', 'Data/genres_original/reggae/reggae.00006.wav', 'Data/genres_original/reggae/reggae.00007.wav', 'Data/genres_original/reggae/reggae.00008.wav', 'Data/genres_original/reggae/reggae.00009.wav', 'Data/genres_original/reggae/reggae.00010.wav', 'Data/genres_original/reggae/reggae.00011.wav', 'Data/genres_original/reggae/reggae.00012.wav', 'Data/genres_original/reggae/reggae.00013.wav', 'Data/genres_original/reggae/reggae.00014.wav', 'Data/genres_original/reggae/reggae.00015.wav', 'Data/genres_original/reggae/reggae.00016.wav', 'Data/genres_original/reggae/reggae.00017.wav', 'Data/genres_original/reggae/reggae.00018.wav', 'Data/genres_original/reggae/reggae.00019.wav', 'Data/genres_original/reggae/reggae.00020.wav', 'Data/genres_original/reggae/reggae.00021.wav', 'Data/genres_original/reggae/reggae.00022.wav', 'Data/genres_original/reggae/reggae.00023.wav', 'Data/genres_original/reggae/reggae.00024.wav', 'Data/genres_original/reggae/reggae.00025.wav', 'Data/genres_original/reggae/reggae.00026.wav', 'Data/genres_original/reggae/reggae.00027.wav', 'Data/genres_original/reggae/reggae.00028.wav', 'Data/genres_original/reggae/reggae.00029.wav', 'Data/genres_original/reggae/reggae.00030.wav', 'Data/genres_original/reggae/reggae.00031.wav', 'Data/genres_original/reggae/reggae.00032.wav', 'Data/genres_original/reggae/reggae.00033.wav', 'Data/genres_original/reggae/reggae.00034.wav', 'Data/genres_original/reggae/reggae.00035.wav', 'Data/genres_original/reggae/reggae.00036.wav', 'Data/genres_original/reggae/reggae.00037.wav', 'Data/genres_original/reggae/reggae.00038.wav', 'Data/genres_original/reggae/reggae.00039.wav', 'Data/genres_original/reggae/reggae.00040.wav', 'Data/genres_original/reggae/reggae.00041.wav', 'Data/genres_original/reggae/reggae.00042.wav', 'Data/genres_original/reggae/reggae.00043.wav', 'Data/genres_original/reggae/reggae.00044.wav', 'Data/genres_original/reggae/reggae.00045.wav', 'Data/genres_original/reggae/reggae.00046.wav', 'Data/genres_original/reggae/reggae.00047.wav', 'Data/genres_original/reggae/reggae.00048.wav', 'Data/genres_original/reggae/reggae.00049.wav', 'Data/genres_original/reggae/reggae.00050.wav', 'Data/genres_original/reggae/reggae.00051.wav', 'Data/genres_original/reggae/reggae.00052.wav', 'Data/genres_original/reggae/reggae.00053.wav', 'Data/genres_original/reggae/reggae.00054.wav', 'Data/genres_original/reggae/reggae.00055.wav', 'Data/genres_original/reggae/reggae.00056.wav', 'Data/genres_original/reggae/reggae.00057.wav', 'Data/genres_original/reggae/reggae.00058.wav', 'Data/genres_original/reggae/reggae.00059.wav', 'Data/genres_original/reggae/reggae.00060.wav', 'Data/genres_original/reggae/reggae.00061.wav', 'Data/genres_original/reggae/reggae.00062.wav', 'Data/genres_original/reggae/reggae.00063.wav', 'Data/genres_original/reggae/reggae.00064.wav', 'Data/genres_original/reggae/reggae.00065.wav', 'Data/genres_original/reggae/reggae.00066.wav', 'Data/genres_original/reggae/reggae.00067.wav', 'Data/genres_original/reggae/reggae.00068.wav', 'Data/genres_original/reggae/reggae.00069.wav', 'Data/genres_original/reggae/reggae.00070.wav', 'Data/genres_original/reggae/reggae.00071.wav', 'Data/genres_original/reggae/reggae.00072.wav', 'Data/genres_original/reggae/reggae.00073.wav', 'Data/genres_original/reggae/reggae.00074.wav', 'Data/genres_original/reggae/reggae.00075.wav', 'Data/genres_original/reggae/reggae.00076.wav', 'Data/genres_original/reggae/reggae.00077.wav', 'Data/genres_original/reggae/reggae.00078.wav', 'Data/genres_original/reggae/reggae.00079.wav', 'Data/genres_original/reggae/reggae.00080.wav', 'Data/genres_original/reggae/reggae.00081.wav', 'Data/genres_original/reggae/reggae.00082.wav', 'Data/genres_original/reggae/reggae.00083.wav', 'Data/genres_original/reggae/reggae.00084.wav', 'Data/genres_original/reggae/reggae.00085.wav', 'Data/genres_original/reggae/reggae.00086.wav', 'Data/genres_original/reggae/reggae.00087.wav', 'Data/genres_original/reggae/reggae.00088.wav', 'Data/genres_original/reggae/reggae.00089.wav', 'Data/genres_original/reggae/reggae.00090.wav', 'Data/genres_original/reggae/reggae.00091.wav', 'Data/genres_original/reggae/reggae.00092.wav', 'Data/genres_original/reggae/reggae.00093.wav', 'Data/genres_original/reggae/reggae.00094.wav', 'Data/genres_original/reggae/reggae.00095.wav', 'Data/genres_original/reggae/reggae.00096.wav', 'Data/genres_original/reggae/reggae.00097.wav', 'Data/genres_original/reggae/reggae.00098.wav', 'Data/genres_original/reggae/reggae.00099.wav'] ['Data/genres_original/rock/rock.00000.wav', 'Data/genres_original/rock/rock.00001.wav', 'Data/genres_original/rock/rock.00002.wav', 'Data/genres_original/rock/rock.00003.wav', 'Data/genres_original/rock/rock.00004.wav', 'Data/genres_original/rock/rock.00005.wav', 'Data/genres_original/rock/rock.00006.wav', 'Data/genres_original/rock/rock.00007.wav', 'Data/genres_original/rock/rock.00008.wav', 'Data/genres_original/rock/rock.00009.wav', 'Data/genres_original/rock/rock.00010.wav', 'Data/genres_original/rock/rock.00011.wav', 'Data/genres_original/rock/rock.00012.wav', 'Data/genres_original/rock/rock.00013.wav', 'Data/genres_original/rock/rock.00014.wav', 'Data/genres_original/rock/rock.00015.wav', 'Data/genres_original/rock/rock.00016.wav', 'Data/genres_original/rock/rock.00017.wav', 'Data/genres_original/rock/rock.00018.wav', 'Data/genres_original/rock/rock.00019.wav', 'Data/genres_original/rock/rock.00020.wav', 'Data/genres_original/rock/rock.00021.wav', 'Data/genres_original/rock/rock.00022.wav', 'Data/genres_original/rock/rock.00023.wav', 'Data/genres_original/rock/rock.00024.wav', 'Data/genres_original/rock/rock.00025.wav', 'Data/genres_original/rock/rock.00026.wav', 'Data/genres_original/rock/rock.00027.wav', 'Data/genres_original/rock/rock.00028.wav', 'Data/genres_original/rock/rock.00029.wav', 'Data/genres_original/rock/rock.00030.wav', 'Data/genres_original/rock/rock.00031.wav', 'Data/genres_original/rock/rock.00032.wav', 'Data/genres_original/rock/rock.00033.wav', 'Data/genres_original/rock/rock.00034.wav', 'Data/genres_original/rock/rock.00035.wav', 'Data/genres_original/rock/rock.00036.wav', 'Data/genres_original/rock/rock.00037.wav', 'Data/genres_original/rock/rock.00038.wav', 'Data/genres_original/rock/rock.00039.wav', 'Data/genres_original/rock/rock.00040.wav', 'Data/genres_original/rock/rock.00041.wav', 'Data/genres_original/rock/rock.00042.wav', 'Data/genres_original/rock/rock.00043.wav', 'Data/genres_original/rock/rock.00044.wav', 'Data/genres_original/rock/rock.00045.wav', 'Data/genres_original/rock/rock.00046.wav', 'Data/genres_original/rock/rock.00047.wav', 'Data/genres_original/rock/rock.00048.wav', 'Data/genres_original/rock/rock.00049.wav', 'Data/genres_original/rock/rock.00050.wav', 'Data/genres_original/rock/rock.00051.wav', 'Data/genres_original/rock/rock.00052.wav', 'Data/genres_original/rock/rock.00053.wav', 'Data/genres_original/rock/rock.00054.wav', 'Data/genres_original/rock/rock.00055.wav', 'Data/genres_original/rock/rock.00056.wav', 'Data/genres_original/rock/rock.00057.wav', 'Data/genres_original/rock/rock.00058.wav', 'Data/genres_original/rock/rock.00059.wav', 'Data/genres_original/rock/rock.00060.wav', 'Data/genres_original/rock/rock.00061.wav', 'Data/genres_original/rock/rock.00062.wav', 'Data/genres_original/rock/rock.00063.wav', 'Data/genres_original/rock/rock.00064.wav', 'Data/genres_original/rock/rock.00065.wav', 'Data/genres_original/rock/rock.00066.wav', 'Data/genres_original/rock/rock.00067.wav', 'Data/genres_original/rock/rock.00068.wav', 'Data/genres_original/rock/rock.00069.wav', 'Data/genres_original/rock/rock.00070.wav', 'Data/genres_original/rock/rock.00071.wav', 'Data/genres_original/rock/rock.00072.wav', 'Data/genres_original/rock/rock.00073.wav', 'Data/genres_original/rock/rock.00074.wav', 'Data/genres_original/rock/rock.00075.wav', 'Data/genres_original/rock/rock.00076.wav', 'Data/genres_original/rock/rock.00077.wav', 'Data/genres_original/rock/rock.00078.wav', 'Data/genres_original/rock/rock.00079.wav', 'Data/genres_original/rock/rock.00080.wav', 'Data/genres_original/rock/rock.00081.wav', 'Data/genres_original/rock/rock.00082.wav', 'Data/genres_original/rock/rock.00083.wav', 'Data/genres_original/rock/rock.00084.wav', 'Data/genres_original/rock/rock.00085.wav', 'Data/genres_original/rock/rock.00086.wav', 'Data/genres_original/rock/rock.00087.wav', 'Data/genres_original/rock/rock.00088.wav', 'Data/genres_original/rock/rock.00089.wav', 'Data/genres_original/rock/rock.00090.wav', 'Data/genres_original/rock/rock.00091.wav', 'Data/genres_original/rock/rock.00092.wav', 'Data/genres_original/rock/rock.00093.wav', 'Data/genres_original/rock/rock.00094.wav', 'Data/genres_original/rock/rock.00095.wav', 'Data/genres_original/rock/rock.00096.wav', 'Data/genres_original/rock/rock.00097.wav', 'Data/genres_original/rock/rock.00098.wav', 'Data/genres_original/rock/rock.00099.wav']\n"
     ]
    }
   ],
   "source": [
    "print(blues_all,classical_all,country_all,disco_all,hiphop_all,jazz_all,mental_all,pop_all,reggae_all,rock_all)"
   ]
  },
  {
   "cell_type": "code",
   "execution_count": 7,
   "id": "c02a2086",
   "metadata": {},
   "outputs": [],
   "source": [
    "from matplotlib import pyplot as plt\n",
    "from scipy.io import wavfile\n",
    "from scipy.signal import firwin,filtfilt\n",
    "from GetMusicFeatures import GetMusicFeatures\n",
    "from FeatureExtractor import FeatureExtractor\n",
    "import numpy as np\n",
    "import pickle as pkl\n",
    "def lowpass(x,fc,fs=44100):\n",
    "    \"\"\" x is the signal, \n",
    "        fc is the cuttoff frequency expressed in Hz, must be between [0,fs/2]\n",
    "    \"\"\"\n",
    "    b = firwin(1024, fc,fs=fs)\n",
    "    y = filtfilt(b,1,x)\n",
    "    return y"
   ]
  },
  {
   "cell_type": "code",
   "execution_count": 23,
   "id": "d0c856fe",
   "metadata": {},
   "outputs": [
    {
     "name": "stdout",
     "output_type": "stream",
     "text": [
      "Data/genres_original/jazz/jazz.00000.wav\n",
      "Data/genres_original/jazz/jazz.00001.wav\n",
      "Data/genres_original/jazz/jazz.00002.wav\n",
      "Data/genres_original/jazz/jazz.00003.wav\n",
      "Data/genres_original/jazz/jazz.00004.wav\n",
      "Data/genres_original/jazz/jazz.00005.wav\n",
      "Data/genres_original/jazz/jazz.00006.wav\n",
      "Data/genres_original/jazz/jazz.00007.wav\n",
      "Data/genres_original/jazz/jazz.00008.wav\n",
      "Data/genres_original/jazz/jazz.00009.wav\n",
      "Data/genres_original/jazz/jazz.00010.wav\n",
      "Data/genres_original/jazz/jazz.00011.wav\n",
      "Data/genres_original/jazz/jazz.00012.wav\n",
      "Data/genres_original/jazz/jazz.00013.wav\n",
      "Data/genres_original/jazz/jazz.00014.wav\n",
      "Data/genres_original/jazz/jazz.00015.wav\n",
      "Data/genres_original/jazz/jazz.00016.wav\n",
      "Data/genres_original/jazz/jazz.00017.wav\n",
      "Data/genres_original/jazz/jazz.00018.wav\n",
      "Data/genres_original/jazz/jazz.00019.wav\n",
      "Data/genres_original/jazz/jazz.00020.wav\n",
      "Data/genres_original/jazz/jazz.00021.wav\n",
      "Data/genres_original/jazz/jazz.00022.wav\n",
      "Data/genres_original/jazz/jazz.00023.wav\n",
      "Data/genres_original/jazz/jazz.00024.wav\n",
      "Data/genres_original/jazz/jazz.00025.wav\n",
      "Data/genres_original/jazz/jazz.00026.wav\n",
      "Data/genres_original/jazz/jazz.00027.wav\n",
      "Data/genres_original/jazz/jazz.00028.wav\n",
      "Data/genres_original/jazz/jazz.00029.wav\n",
      "Data/genres_original/jazz/jazz.00030.wav\n",
      "Data/genres_original/jazz/jazz.00031.wav\n",
      "Data/genres_original/jazz/jazz.00032.wav\n",
      "Data/genres_original/jazz/jazz.00033.wav\n",
      "Data/genres_original/jazz/jazz.00034.wav\n",
      "Data/genres_original/jazz/jazz.00035.wav\n",
      "Data/genres_original/jazz/jazz.00036.wav\n",
      "Data/genres_original/jazz/jazz.00037.wav\n",
      "Data/genres_original/jazz/jazz.00038.wav\n",
      "Data/genres_original/jazz/jazz.00039.wav\n",
      "Data/genres_original/jazz/jazz.00040.wav\n",
      "Data/genres_original/jazz/jazz.00041.wav\n",
      "Data/genres_original/jazz/jazz.00042.wav\n",
      "Data/genres_original/jazz/jazz.00043.wav\n",
      "Data/genres_original/jazz/jazz.00044.wav\n",
      "Data/genres_original/jazz/jazz.00045.wav\n",
      "Data/genres_original/jazz/jazz.00046.wav\n",
      "Data/genres_original/jazz/jazz.00047.wav\n",
      "Data/genres_original/jazz/jazz.00048.wav\n",
      "Data/genres_original/jazz/jazz.00049.wav\n",
      "Data/genres_original/jazz/jazz.00050.wav\n",
      "Data/genres_original/jazz/jazz.00051.wav\n",
      "Data/genres_original/jazz/jazz.00052.wav\n",
      "Data/genres_original/jazz/jazz.00053.wav\n",
      "Data/genres_original/jazz/jazz.00054.wav\n",
      "Data/genres_original/jazz/jazz.00055.wav\n",
      "Data/genres_original/jazz/jazz.00056.wav\n",
      "Data/genres_original/jazz/jazz.00057.wav\n",
      "Data/genres_original/jazz/jazz.00058.wav\n",
      "Data/genres_original/jazz/jazz.00059.wav\n",
      "Data/genres_original/jazz/jazz.00060.wav\n",
      "Data/genres_original/jazz/jazz.00061.wav\n",
      "Data/genres_original/jazz/jazz.00062.wav\n",
      "Data/genres_original/jazz/jazz.00063.wav\n",
      "Data/genres_original/jazz/jazz.00064.wav\n",
      "Data/genres_original/jazz/jazz.00065.wav\n",
      "Data/genres_original/jazz/jazz.00066.wav\n",
      "Data/genres_original/jazz/jazz.00067.wav\n",
      "Data/genres_original/jazz/jazz.00068.wav\n",
      "Data/genres_original/jazz/jazz.00069.wav\n",
      "Data/genres_original/jazz/jazz.00070.wav\n",
      "Data/genres_original/jazz/jazz.00071.wav\n",
      "Data/genres_original/jazz/jazz.00072.wav\n",
      "Data/genres_original/jazz/jazz.00073.wav\n",
      "Data/genres_original/jazz/jazz.00074.wav\n",
      "Data/genres_original/jazz/jazz.00075.wav\n",
      "Data/genres_original/jazz/jazz.00076.wav\n",
      "Data/genres_original/jazz/jazz.00077.wav\n",
      "Data/genres_original/jazz/jazz.00078.wav\n",
      "Data/genres_original/jazz/jazz.00079.wav\n",
      "Data/genres_original/jazz/jazz.00080.wav\n",
      "Data/genres_original/jazz/jazz.00081.wav\n",
      "Data/genres_original/jazz/jazz.00082.wav\n",
      "Data/genres_original/jazz/jazz.00083.wav\n",
      "Data/genres_original/jazz/jazz.00084.wav\n",
      "Data/genres_original/jazz/jazz.00085.wav\n",
      "Data/genres_original/jazz/jazz.00086.wav\n",
      "Data/genres_original/jazz/jazz.00087.wav\n",
      "Data/genres_original/jazz/jazz.00088.wav\n",
      "Data/genres_original/jazz/jazz.00089.wav\n",
      "Data/genres_original/jazz/jazz.00090.wav\n",
      "Data/genres_original/jazz/jazz.00091.wav\n",
      "Data/genres_original/jazz/jazz.00092.wav\n",
      "Data/genres_original/jazz/jazz.00093.wav\n",
      "Data/genres_original/jazz/jazz.00094.wav\n",
      "Data/genres_original/jazz/jazz.00095.wav\n",
      "Data/genres_original/jazz/jazz.00096.wav\n",
      "Data/genres_original/jazz/jazz.00097.wav\n",
      "Data/genres_original/jazz/jazz.00098.wav\n",
      "Data/genres_original/jazz/jazz.00099.wav\n"
     ]
    }
   ],
   "source": [
    "for name in jazz_all:\n",
    "    print(name)"
   ]
  },
  {
   "cell_type": "code",
   "execution_count": 9,
   "id": "8a67a1f7",
   "metadata": {},
   "outputs": [],
   "source": [
    "from os.path import dirname, join as pjoin\n",
    "from scipy.io import wavfile\n",
    "import scipy.io\n",
    "# data_dir = pjoin(dirname(scipy.io.__file__))\n",
    "# wav_fname_1 = pjoin(data_dir, 'melody_1.wav')\n",
    "# wav_fname_2 = pjoin(data_dir, 'melody_2.wav')\n",
    "    # samplerate1,data_1=wavfile.read('1.wav')\n",
    "    # samplerate2,data_2=wavfile.read('2.wav')\n",
    "    # # # wav_fname_3 = pjoin(data_dir, 'melody_3.wav')\n",
    "    # # samplerate,data_3=wavfile.read('melody_3.wav')\n",
    "\n",
    "    # data_1=lowpass(data_1,1500,fs=samplerate1)\n",
    "    # data_2=lowpass(data_2,1500,fs=samplerate2)\n",
    "    # # data_3=lowpass(data_3,1500,fs=samplerate)\n",
    "\n",
    "    # logf_1=FeatureExtractor(data_1,samplerate1)# Extracted feature of melody_1\n",
    "    # logf_2=FeatureExtractor(data_2,samplerate2)# Extracted feature of melody_2\n",
    "    # # logf_3=FeatureExtractor(data_3,samplerate)# Extracted feature of melody_3\n",
    "    # logf_1 = np.expand_dims(logf_1, axis=0)  ###(200,) to (1,200)\n",
    "    # logf_2 = np.expand_dims(logf_2, axis=0)\n",
    "\n",
    "blues_all_feature_data = []\n",
    "# names = [str(blues_all),str(classical_all),str(country_all),str(disco_all),str(hiphop_all),str(jazz_all),str(mental_all),str(pop_all),str(reggae_all),str(rock_all)]\n",
    "for song in blues_all:\n",
    "    samplerate1,data_1=wavfile.read(song)\n",
    "    data_1=lowpass(data_1,1500,fs=samplerate1)\n",
    "    logf_1=FeatureExtractor(data_1,samplerate1)# Extracted feature of the song\n",
    "    logf_1= np.expand_dims(logf_1, axis=0)\n",
    "    blues_all_feature_data.append(logf_1)\n",
    "    "
   ]
  },
  {
   "cell_type": "code",
   "execution_count": 10,
   "id": "e51eb438",
   "metadata": {},
   "outputs": [],
   "source": [
    "np.save('blues_all_feature_data.npy',blues_all_feature_data)"
   ]
  },
  {
   "cell_type": "code",
   "execution_count": null,
   "id": "a1b77aa5",
   "metadata": {},
   "outputs": [],
   "source": [
    "# blues_all_feature_data = []\n",
    "# # names = [str(blues_all),str(classical_all),str(country_all),str(disco_all),str(hiphop_all),str(jazz_all),str(mental_all),str(pop_all),str(reggae_all),str(rock_all)]\n",
    "# for song in blues_all:\n",
    "#     samplerate1,data_1=wavfile.read(song)\n",
    "#     data_1=lowpass(data_1,1500,fs=samplerate1)\n",
    "#     logf_1=FeatureExtractor(data_1,samplerate1)# Extracted feature of the song\n",
    "#     logf_1= np.expand_dims(logf_1, axis=0)\n",
    "#     blues_all_feature_data.append(logf_1)"
   ]
  },
  {
   "cell_type": "code",
   "execution_count": 26,
   "id": "b61195ca",
   "metadata": {},
   "outputs": [],
   "source": [
    "from os.path import dirname, join as pjoin\n",
    "from scipy.io import wavfile\n",
    "import scipy.io\n",
    "# data_dir = pjoin(dirname(scipy.io.__file__))\n",
    "# wav_fname_1 = pjoin(data_dir, 'melody_1.wav')\n",
    "# wav_fname_2 = pjoin(data_dir, 'melody_2.wav')\n",
    "    # samplerate1,data_1=wavfile.read('1.wav')\n",
    "    # samplerate2,data_2=wavfile.read('2.wav')\n",
    "    # # # wav_fname_3 = pjoin(data_dir, 'melody_3.wav')\n",
    "    # # samplerate,data_3=wavfile.read('melody_3.wav')\n",
    "\n",
    "    # data_1=lowpass(data_1,1500,fs=samplerate1)\n",
    "    # data_2=lowpass(data_2,1500,fs=samplerate2)\n",
    "    # # data_3=lowpass(data_3,1500,fs=samplerate)\n",
    "\n",
    "    # logf_1=FeatureExtractor(data_1,samplerate1)# Extracted feature of melody_1\n",
    "    # logf_2=FeatureExtractor(data_2,samplerate2)# Extracted feature of melody_2\n",
    "    # # logf_3=FeatureExtractor(data_3,samplerate)# Extracted feature of melody_3\n",
    "    # logf_1 = np.expand_dims(logf_1, axis=0)  ###(200,) to (1,200)\n",
    "    # logf_2 = np.expand_dims(logf_2, axis=0)\n",
    "\n",
    "reggae_all_feature_data = []\n",
    "# names = [str(blues_all),str(classical_all),str(country_all),str(disco_all),str(hiphop_all),str(jazz_all),str(mental_all),str(pop_all),str(reggae_all),str(rock_all)]\n",
    "for song in reggae_all:\n",
    "    \n",
    "    samplerate1,data_1=wavfile.read(song)\n",
    "    data_1=lowpass(data_1,1500,fs=samplerate1)\n",
    "    logf_1=FeatureExtractor(data_1,samplerate1)# Extracted feature of the song\n",
    "    reggae_all_feature_data.append(logf_1)\n",
    "    \n",
    "np.save('reggae_all_feature_data.npy',reggae_all_feature_data)\n"
   ]
  },
  {
   "cell_type": "code",
   "execution_count": 25,
   "id": "178efc79",
   "metadata": {},
   "outputs": [
    {
     "data": {
      "text/plain": [
       "'Data/genres_original/jazz/jazz.00054.wav'"
      ]
     },
     "execution_count": 25,
     "metadata": {},
     "output_type": "execute_result"
    }
   ],
   "source": [
    "song"
   ]
  },
  {
   "cell_type": "code",
   "execution_count": 16,
   "id": "a57ffe7f",
   "metadata": {},
   "outputs": [
    {
     "name": "stdout",
     "output_type": "stream",
     "text": [
      "logprob: -1006.3327481873854  ite: 1\n",
      "logprob: -1003.2029079200856  ite: 2\n"
     ]
    },
    {
     "ename": "KeyboardInterrupt",
     "evalue": "",
     "output_type": "error",
     "traceback": [
      "\u001b[0;31m---------------------------------------------------------------------------\u001b[0m",
      "\u001b[0;31mKeyboardInterrupt\u001b[0m                         Traceback (most recent call last)",
      "\u001b[0;32m<ipython-input-16-d0e548a65d3f>\u001b[0m in \u001b[0;36m<module>\u001b[0;34m\u001b[0m\n\u001b[1;32m      1\u001b[0m \u001b[0;31m# np.save('hiphop_all_feature_data.npy',hiphop_all_feature_data)\u001b[0m\u001b[0;34m\u001b[0m\u001b[0;34m\u001b[0m\u001b[0;34m\u001b[0m\u001b[0m\n\u001b[0;32m----> 2\u001b[0;31m \u001b[0mblues_h\u001b[0m\u001b[0;34m.\u001b[0m\u001b[0mtrain\u001b[0m\u001b[0;34m(\u001b[0m\u001b[0mmm2\u001b[0m\u001b[0;34m,\u001b[0m\u001b[0;36m100\u001b[0m\u001b[0;34m)\u001b[0m\u001b[0;34m\u001b[0m\u001b[0;34m\u001b[0m\u001b[0m\n\u001b[0m",
      "\u001b[0;32m~/Desktop/song classification/PattRecClasses/HMM.py\u001b[0m in \u001b[0;36mtrain\u001b[0;34m(self, data, data_num)\u001b[0m\n\u001b[1;32m    177\u001b[0m \u001b[0;34m\u001b[0m\u001b[0m\n\u001b[1;32m    178\u001b[0m                     \u001b[0;32mfor\u001b[0m \u001b[0mtt\u001b[0m \u001b[0;32min\u001b[0m \u001b[0mrange\u001b[0m\u001b[0;34m(\u001b[0m\u001b[0mT\u001b[0m\u001b[0;34m)\u001b[0m\u001b[0;34m:\u001b[0m\u001b[0;34m\u001b[0m\u001b[0;34m\u001b[0m\u001b[0m\n\u001b[0;32m--> 179\u001b[0;31m                         \u001b[0mcov_bar\u001b[0m\u001b[0;34m[\u001b[0m\u001b[0mii\u001b[0m\u001b[0;34m]\u001b[0m \u001b[0;34m=\u001b[0m \u001b[0mcov_bar\u001b[0m\u001b[0;34m[\u001b[0m\u001b[0mii\u001b[0m\u001b[0;34m]\u001b[0m \u001b[0;34m+\u001b[0m \u001b[0mgamma_matrix\u001b[0m\u001b[0;34m[\u001b[0m\u001b[0mii\u001b[0m\u001b[0;34m,\u001b[0m \u001b[0mtt\u001b[0m\u001b[0;34m]\u001b[0m \u001b[0;34m*\u001b[0m \u001b[0;34m(\u001b[0m\u001b[0;34m(\u001b[0m\u001b[0mdata_r\u001b[0m\u001b[0;34m[\u001b[0m\u001b[0;34m:\u001b[0m\u001b[0;34m,\u001b[0m \u001b[0mtt\u001b[0m\u001b[0;34m]\u001b[0m \u001b[0;34m-\u001b[0m \u001b[0mself\u001b[0m\u001b[0;34m.\u001b[0m\u001b[0moutputDistr\u001b[0m\u001b[0;34m[\u001b[0m\u001b[0mii\u001b[0m\u001b[0;34m]\u001b[0m\u001b[0;34m.\u001b[0m\u001b[0mmeans\u001b[0m\u001b[0;34m)\u001b[0m\u001b[0;34m@\u001b[0m\u001b[0;34m(\u001b[0m\u001b[0mdata_r\u001b[0m\u001b[0;34m[\u001b[0m\u001b[0;34m:\u001b[0m\u001b[0;34m,\u001b[0m \u001b[0mtt\u001b[0m\u001b[0;34m]\u001b[0m\u001b[0;34m.\u001b[0m\u001b[0mT\u001b[0m \u001b[0;34m-\u001b[0m \u001b[0mself\u001b[0m\u001b[0;34m.\u001b[0m\u001b[0moutputDistr\u001b[0m\u001b[0;34m[\u001b[0m\u001b[0mii\u001b[0m\u001b[0;34m]\u001b[0m\u001b[0;34m.\u001b[0m\u001b[0mmeans\u001b[0m\u001b[0;34m.\u001b[0m\u001b[0mT\u001b[0m\u001b[0;34m)\u001b[0m\u001b[0;34m)\u001b[0m \u001b[0;31m####这里不对 但是因为目前是1维的所以先这样\u001b[0m\u001b[0;34m\u001b[0m\u001b[0;34m\u001b[0m\u001b[0m\n\u001b[0m\u001b[1;32m    180\u001b[0m \u001b[0;34m\u001b[0m\u001b[0m\n\u001b[1;32m    181\u001b[0m                     \u001b[0;32mif\u001b[0m \u001b[0mgamma_matrix\u001b[0m\u001b[0;34m[\u001b[0m\u001b[0mii\u001b[0m\u001b[0;34m,\u001b[0m\u001b[0;34m:\u001b[0m\u001b[0;34m]\u001b[0m\u001b[0;34m.\u001b[0m\u001b[0msum\u001b[0m\u001b[0;34m(\u001b[0m\u001b[0;34m)\u001b[0m\u001b[0;34m!=\u001b[0m \u001b[0;36m0\u001b[0m\u001b[0;34m:\u001b[0m\u001b[0;34m\u001b[0m\u001b[0;34m\u001b[0m\u001b[0m\n",
      "\u001b[0;31mKeyboardInterrupt\u001b[0m: "
     ]
    }
   ],
   "source": [
    "# np.save('hiphop_all_feature_data.npy',hiphop_all_feature_data)\n",
    "blues_h.train(mm2,100)"
   ]
  },
  {
   "cell_type": "code",
   "execution_count": 15,
   "id": "5d81241c",
   "metadata": {},
   "outputs": [],
   "source": [
    "country_all_feature_data = []\n",
    "for song in country_all:\n",
    "    samplerate1,data_1=wavfile.read(song)\n",
    "    data_1=lowpass(data_1,1500,fs=samplerate1)\n",
    "    logf_1=FeatureExtractor(data_1,samplerate1)# Extracted feature of the song\n",
    "    country_all_feature_data.append(logf_1)\n",
    "    \n",
    "    \n",
    "np.save('country_all_feature_data.npy',country_all_feature_data)"
   ]
  },
  {
   "cell_type": "code",
   "execution_count": 13,
   "id": "78e50417",
   "metadata": {},
   "outputs": [],
   "source": [
    "# state_number = 6\n",
    "\n",
    "\n",
    "q = np.array([0,1,0,0])\n",
    "A = np.array([[0.25,0.25,0.25,0.25],[0.25,0.25,0.25,0.25],[0.25,0.25,0.25,0.25],[0.25,0.25,0.25,0.25]])\n",
    "mc = MarkovChain(q,A)\n",
    "\n",
    "g1 = GaussD( means=[0], stdevs=[1] )   # Distribution for state = 1\n",
    "g2 = GaussD( means=[10], stdevs=[2] )  # Distribution for state = 2\n",
    "g3 = GaussD( means=[4], stdevs=[10])   # Distribution for state = 3\n",
    "g4 = GaussD( means=[0], stdevs=[1])   # Distribution for state = 3\n",
    "blues_h  = HMM( mc, [g1, g2, g3, g4]) \n"
   ]
  },
  {
   "cell_type": "code",
   "execution_count": 51,
   "id": "9de3c420",
   "metadata": {},
   "outputs": [
    {
     "name": "stdout",
     "output_type": "stream",
     "text": [
      "logprob: -7598.808219283569  ite: 1\n",
      "logprob: -3540.055449439608  ite: 2\n",
      "logprob: -3516.8944153450843  ite: 3\n",
      "logprob: -3510.346064697578  ite: 4\n",
      "logprob: -3505.373959588002  ite: 5\n",
      "logprob: -3502.5986115464098  ite: 6\n",
      "logprob: -3501.9850986794813  ite: 7\n",
      "logprob: -3501.7216755588984  ite: 8\n",
      "logprob: -3501.5888409603467  ite: 9\n",
      "logprob: -3501.5133864776744  ite: 10\n",
      "logprob: -3501.4728338638515  ite: 11\n",
      "logprob: -3501.4526833140417  ite: 12\n",
      "logprob: -3501.443173986766  ite: 13\n",
      "logprob: -3501.4388226733486  ite: 14\n",
      "logprob: -3501.4368677905727  ite: 15\n",
      "logprob: -3501.435999146062  ite: 16\n",
      "logprob: -3501.435615722812  ite: 17\n",
      "logprob: -3501.4354471588813  ite: 18\n",
      "logprob: -3501.435373234881  ite: 19\n",
      "logprob: -3501.435340863896  ite: 20\n",
      "logprob: -3501.4353267017664  ite: 21\n",
      "logprob: -3501.4353205093794  ite: 22\n",
      "logprob: -3501.435317802697  ite: 23\n",
      "logprob: -3501.4353166198443  ite: 24\n",
      "logprob: -3501.4353161030085  ite: 25\n",
      "prob_change: 5.168358256923966e-07 terminate after ite: 25\n"
     ]
    }
   ],
   "source": [
    "# print(h.logprob(logf_1))\n",
    "blues_train_feature_data= blues_all_feature_data[0:2]\n",
    "blues_h.train(blues_train_feature_data,len(blues_train_feature_data))"
   ]
  },
  {
   "cell_type": "code",
   "execution_count": 31,
   "id": "2f6fe07c",
   "metadata": {},
   "outputs": [
    {
     "data": {
      "text/plain": [
       "Text(0, 0.5, 'Extracted Feature')"
      ]
     },
     "execution_count": 31,
     "metadata": {},
     "output_type": "execute_result"
    },
    {
     "data": {
      "image/png": "[encoded data removed]",
      "text/plain": [
       "<Figure size 432x288 with 1 Axes>"
      ]
     },
     "metadata": {
      "needs_background": "light"
     },
     "output_type": "display_data"
    },
    {
     "data": {
      "image/png": "[encoded data removed]",
      "text/plain": [
       "<Figure size 432x288 with 1 Axes>"
      ]
     },
     "metadata": {
      "needs_background": "light"
     },
     "output_type": "display_data"
    },
    {
     "data": {
      "image/png": "[encoded data removed]",
      "text/plain": [
       "<Figure size 432x288 with 1 Axes>"
      ]
     },
     "metadata": {
      "needs_background": "light"
     },
     "output_type": "display_data"
    }
   ],
   "source": [
    "plt.figure()\n",
    "plt.plot(blues_train_feature_data[0][0,:])\n",
    "plt.xlabel(\"Frame Number\",fontsize=15)\n",
    "plt.ylabel(\"Extracted Feature\",fontsize=15)\n",
    "\n",
    "plt.figure()\n",
    "plt.plot(blues_train_feature_data[1][0,:])\n",
    "plt.xlabel(\"Frame Number\",fontsize=15)\n",
    "plt.ylabel(\"Extracted Feature\",fontsize=15)\n",
    "\n",
    "plt.figure()\n",
    "plt.plot(blues_all_feature_data[6][0,:])\n",
    "plt.xlabel(\"Frame Number\",fontsize=15)\n",
    "plt.ylabel(\"Extracted Feature\",fontsize=15)"
   ]
  },
  {
   "cell_type": "code",
   "execution_count": 66,
   "id": "7dc8e66b",
   "metadata": {},
   "outputs": [
    {
     "data": {
      "text/plain": [
       "-2359.634964603808"
      ]
     },
     "execution_count": 66,
     "metadata": {},
     "output_type": "execute_result"
    }
   ],
   "source": [
    "X,S = blues_h.rand(1998)\n",
    "blues_h.logprob(blues_train_feature_data[0])"
   ]
  },
  {
   "cell_type": "code",
   "execution_count": 51,
   "id": "620225f0",
   "metadata": {},
   "outputs": [
    {
     "data": {
      "text/plain": [
       "array([[1.        , 0.06495786, 0.        ],\n",
       "       [0.        , 0.93504214, 1.        ]])"
      ]
     },
     "execution_count": 51,
     "metadata": {},
     "output_type": "execute_result"
    }
   ],
   "source": [
    "a[0]"
   ]
  },
  {
   "cell_type": "code",
   "execution_count": 53,
   "id": "3f9ca4f5",
   "metadata": {},
   "outputs": [],
   "source": [
    "zeta_matrix = np.zeros([3,4])"
   ]
  },
  {
   "cell_type": "code",
   "execution_count": 55,
   "id": "d172decb",
   "metadata": {},
   "outputs": [
    {
     "data": {
      "text/plain": [
       "0.0"
      ]
     },
     "execution_count": 55,
     "metadata": {},
     "output_type": "execute_result"
    }
   ],
   "source": [
    "zeta_matrix[0,0]"
   ]
  },
  {
   "cell_type": "code",
   "execution_count": 5,
   "id": "7766eef7",
   "metadata": {},
   "outputs": [],
   "source": [
    "mm = np.load('blues_all_feature_data.npy')"
   ]
  },
  {
   "cell_type": "code",
   "execution_count": 11,
   "id": "9ea718af",
   "metadata": {
    "scrolled": true
   },
   "outputs": [
    {
     "ename": "NameError",
     "evalue": "name 'blues_h' is not defined",
     "output_type": "error",
     "traceback": [
      "\u001b[0;31m---------------------------------------------------------------------------\u001b[0m",
      "\u001b[0;31mNameError\u001b[0m                                 Traceback (most recent call last)",
      "\u001b[0;32m<ipython-input-11-43565b0b6fde>\u001b[0m in \u001b[0;36m<module>\u001b[0;34m\u001b[0m\n\u001b[0;32m----> 1\u001b[0;31m \u001b[0mblues_h\u001b[0m\u001b[0;34m.\u001b[0m\u001b[0mtrain\u001b[0m\u001b[0;34m(\u001b[0m\u001b[0mmm2\u001b[0m\u001b[0;34m,\u001b[0m\u001b[0mlen\u001b[0m\u001b[0;34m(\u001b[0m\u001b[0mmm\u001b[0m\u001b[0;34m)\u001b[0m\u001b[0;34m)\u001b[0m\u001b[0;34m\u001b[0m\u001b[0;34m\u001b[0m\u001b[0m\n\u001b[0m",
      "\u001b[0;31mNameError\u001b[0m: name 'blues_h' is not defined"
     ]
    }
   ],
   "source": [
    "blues_h.train(mm2,len(mm))"
   ]
  },
  {
   "cell_type": "code",
   "execution_count": 12,
   "id": "ae933211",
   "metadata": {},
   "outputs": [],
   "source": [
    "mm2 = np.load('classical_all_feature_data.npy',allow_pickle=True)"
   ]
  },
  {
   "cell_type": "code",
   "execution_count": 11,
   "id": "80646721",
   "metadata": {},
   "outputs": [
    {
     "data": {
      "text/plain": [
       "100"
      ]
     },
     "execution_count": 11,
     "metadata": {},
     "output_type": "execute_result"
    }
   ],
   "source": [
    "len(mm2)"
   ]
  },
  {
   "cell_type": "code",
   "execution_count": 14,
   "id": "4b53d22d",
   "metadata": {},
   "outputs": [],
   "source": [
    "for ff in mm2:\n",
    "    ff = np.expand_dims(ff, axis=0)"
   ]
  },
  {
   "cell_type": "code",
   "execution_count": 14,
   "id": "e5bb3f6e",
   "metadata": {},
   "outputs": [],
   "source": [
    "for ff in range(len(mm2)):\n",
    "    mm2[ff] = np.expand_dims(mm2[ff],axis=0)"
   ]
  },
  {
   "cell_type": "code",
   "execution_count": 21,
   "id": "31c8849b",
   "metadata": {},
   "outputs": [
    {
     "data": {
      "text/plain": [
       "(1, 1998)"
      ]
     },
     "execution_count": 21,
     "metadata": {},
     "output_type": "execute_result"
    }
   ],
   "source": [
    "mm2[0].shape"
   ]
  },
  {
   "cell_type": "code",
   "execution_count": 30,
   "id": "8fcdde0f",
   "metadata": {},
   "outputs": [
    {
     "data": {
      "text/plain": [
       "-3857.6838392545424"
      ]
     },
     "execution_count": 30,
     "metadata": {},
     "output_type": "execute_result"
    }
   ],
   "source": [
    "def cross_validation(ten_HMM_models, test_data, labels):\n",
    "    for "
   ]
  },
  {
   "cell_type": "code",
   "execution_count": null,
   "id": "ebca7ad0",
   "metadata": {},
   "outputs": [],
   "source": []
  }
 ],
 "metadata": {
  "kernelspec": {
   "display_name": "Python 3",
   "language": "python",
   "name": "python3"
  },
  "language_info": {
   "codemirror_mode": {
    "name": "ipython",
    "version": 3
   },
   "file_extension": ".py",
   "mimetype": "text/x-python",
   "name": "python",
   "nbconvert_exporter": "python",
   "pygments_lexer": "ipython3",
   "version": "3.8.8"
  }
 },
 "nbformat": 4,
 "nbformat_minor": 5
}
