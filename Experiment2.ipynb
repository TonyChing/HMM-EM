{
 "cells": [
  {
   "cell_type": "code",
   "execution_count": 1,
   "id": "6420c3f0",
   "metadata": {},
   "outputs": [],
   "source": [
    "from PattRecClasses import DiscreteD, GaussD, HMM, MarkovChain, GetPx\n",
    "from matplotlib import pyplot as plt\n",
    "import numpy as np\n",
    "\n",
    "from matplotlib import pyplot as plt\n",
    "from scipy.io import wavfile\n",
    "from scipy.signal import firwin,filtfilt\n",
    "from GetMusicFeatures import GetMusicFeatures\n",
    "from FeatureExtractor import FeatureExtractor\n",
    "import numpy as np\n",
    "import pickle as pkl\n",
    "def lowpass(x,fc,fs=44100):\n",
    "    \"\"\" x is the signal, \n",
    "        fc is the cuttoff frequency expressed in Hz, must be between [0,fs/2]\n",
    "    \"\"\"\n",
    "    b = firwin(1024, fc,fs=fs)\n",
    "    y = filtfilt(b,1,x)\n",
    "    return y"
   ]
  },
  {
   "cell_type": "code",
   "execution_count": 5,
   "id": "b05ba22c",
   "metadata": {},
   "outputs": [],
   "source": [
    "blues_all_feature_data = np.load('blues_all_feature_data.npy')\n",
    "classical_all_feature_data = np.load('classical_all_feature_data.npy',allow_pickle=True)\n",
    "for ff in range(len(classical_all_feature_data)):\n",
    "    classical_all_feature_data[ff] = np.expand_dims(classical_all_feature_data[ff],axis=0)\n",
    "\n",
    "reggae_all_feature_data = np.load('reggae_all_feature_data.npy',allow_pickle=True)\n",
    "for ff in range(len(reggae_all_feature_data)):\n",
    "    reggae_all_feature_data[ff] = np.expand_dims(reggae_all_feature_data[ff],axis=0)\n",
    "    \n",
    "disco_all_feature_data = np.load('disco_all_feature_data.npy',allow_pickle=True)\n",
    "for ff in range(len(disco_all_feature_data)):\n",
    "    disco_all_feature_data[ff] = np.expand_dims(disco_all_feature_data[ff],axis=0)\n"
   ]
  },
  {
   "cell_type": "code",
   "execution_count": 6,
   "id": "03d3d1bf",
   "metadata": {},
   "outputs": [],
   "source": [
    "data_list = [blues_all_feature_data, \n",
    "            classical_all_feature_data, \n",
    "            disco_all_feature_data,\n",
    "            reggae_all_feature_data]"
   ]
  },
  {
   "cell_type": "code",
   "execution_count": 7,
   "id": "b394c7e6",
   "metadata": {},
   "outputs": [],
   "source": [
    "q = np.array([0.1,0.125,0.125,0.125,0.125,0.125,0.125,0.125,0.025])\n",
    "A = np.array([[0.1,0.125,0.125,0.125,0.125,0.125,0.125,0.125,0.025],[0.1,0.125,0.125,0.125,0.125,0.125,0.125,0.125,0.025],[0.1,0.125,0.125,0.125,0.125,0.125,0.125,0.125,0.025],[0.1,0.125,0.125,0.125,0.125,0.125,0.125,0.125,0.025],[0.1,0.125,0.125,0.125,0.125,0.125,0.125,0.125,0.025],[0.1,0.125,0.125,0.125,0.125,0.125,0.125,0.125,0.025],[0.1,0.125,0.125,0.125,0.125,0.125,0.125,0.125,0.025],[0.1,0.125,0.125,0.125,0.125,0.125,0.125,0.125,0.025],[0.1,0.125,0.125,0.125,0.125,0.125,0.125,0.125,0.025]])\n",
    "mc = MarkovChain(q,A)\n",
    "\n",
    "g1 = GaussD( means=[0], stdevs=[1] )   # Distribution for state = 1\n",
    "g2 = GaussD( means=[10], stdevs=[2] )  # Distribution for state = 2\n",
    "g3 = GaussD( means=[4], stdevs=[10])   # Distribution for state = 3\n",
    "g4 = GaussD( means=[0], stdevs=[1])   # Distribution for state = 4\n",
    "g5 = GaussD( means=[0], stdevs=[1] )   # Distribution for state = 1\n",
    "g6 = GaussD( means=[10], stdevs=[2] )  # Distribution for state = 2\n",
    "g7 = GaussD( means=[4], stdevs=[10])   # Distribution for state = 3\n",
    "g8 = GaussD( means=[0], stdevs=[1])   # Distribution for state = 4\n",
    "g9 = GaussD( means=[0], stdevs=[1])   # Distribution for state = 4\n",
    "blues_h  = HMM( mc, [g1, g2, g3, g4, g5, g6, g7, g8, g9]) \n",
    "\n",
    "q2 = np.array([0.1,0.125,0.125,0.125,0.125,0.125,0.125,0.125,0.025])\n",
    "A2 = np.array([[0.1,0.125,0.125,0.125,0.125,0.125,0.125,0.125,0.025],[0.1,0.125,0.125,0.125,0.125,0.125,0.125,0.125,0.025],[0.1,0.125,0.125,0.125,0.125,0.125,0.125,0.125,0.025],[0.1,0.125,0.125,0.125,0.125,0.125,0.125,0.125,0.025],[0.1,0.125,0.125,0.125,0.125,0.125,0.125,0.125,0.025],[0.1,0.125,0.125,0.125,0.125,0.125,0.125,0.125,0.025],[0.1,0.125,0.125,0.125,0.125,0.125,0.125,0.125,0.025],[0.1,0.125,0.125,0.125,0.125,0.125,0.125,0.125,0.025],[0.1,0.125,0.125,0.125,0.125,0.125,0.125,0.125,0.025]])\n",
    "mc2 = MarkovChain(q2,A2)\n",
    "\n",
    "g12 = GaussD( means=[0], stdevs=[1] )   # Distribution for state = 1\n",
    "g22 = GaussD( means=[10], stdevs=[2] )  # Distribution for state = 2\n",
    "g32 = GaussD( means=[4], stdevs=[10])   # Distribution for state = 3\n",
    "g42 = GaussD( means=[0], stdevs=[1])   # Distribution for state = 4\n",
    "g52 = GaussD( means=[0], stdevs=[1] )   # Distribution for state = 1\n",
    "g62 = GaussD( means=[10], stdevs=[2] )  # Distribution for state = 2\n",
    "g72 = GaussD( means=[4], stdevs=[10])   # Distribution for state = 3\n",
    "g82 = GaussD( means=[0], stdevs=[1])   # Distribution for state = 4\n",
    "g92 = GaussD( means=[10], stdevs=[1])   # Distribution for state = 4\n",
    "classical_h = HMM( mc2, [g12, g22, g32, g42, g52, g62, g72, g82, g92]) \n",
    "\n",
    "# q3 = np.array([0.1,0.125,0.125,0.125,0.125,0.125,0.125,0.125,0.025])\n",
    "# A3 = np.array([[0.1,0.125,0.125,0.125,0.125,0.125,0.125,0.125,0.025],[0.1,0.125,0.125,0.125,0.125,0.125,0.125,0.125,0.025],[0.1,0.125,0.125,0.125,0.125,0.125,0.125,0.125,0.025],[0.1,0.125,0.125,0.125,0.125,0.125,0.125,0.125,0.025],[0.1,0.125,0.125,0.125,0.125,0.125,0.125,0.125,0.025],[0.1,0.125,0.125,0.125,0.125,0.125,0.125,0.125,0.025],[0.1,0.125,0.125,0.125,0.125,0.125,0.125,0.125,0.025],[0.1,0.125,0.125,0.125,0.125,0.125,0.125,0.125,0.025],[0.1,0.125,0.125,0.125,0.125,0.125,0.125,0.125,0.025]])\n",
    "# mc3 = MarkovChain(q3,A3)\n",
    "\n",
    "# g13 = GaussD( means=[0], stdevs=[1] )   # Distribution for state = 1\n",
    "# g23 = GaussD( means=[10], stdevs=[2] )  # Distribution for state = 2\n",
    "# g33 = GaussD( means=[4], stdevs=[10])   # Distribution for state = 3\n",
    "# g43 = GaussD( means=[0], stdevs=[1])   # Distribution for state = 4\n",
    "# g53 = GaussD( means=[0], stdevs=[1] )   # Distribution for state = 1\n",
    "# g63 = GaussD( means=[10], stdevs=[2] )  # Distribution for state = 2\n",
    "# g73 = GaussD( means=[4], stdevs=[10])   # Distribution for state = 3\n",
    "# g83 = GaussD( means=[0], stdevs=[1])   # Distribution for state = 4\n",
    "# g93 = GaussD( means=[10], stdevs=[1])   # Distribution for state = 4\n",
    "# country_h = HMM( mc3, [g13, g23, g33, g43, g53, g63, g73, g83, g93]) \n",
    "\n",
    "q4 = np.array([0.1,0.125,0.125,0.125,0.125,0.125,0.125,0.125,0.025])\n",
    "A4 = np.array([[0.1,0.125,0.125,0.125,0.125,0.125,0.125,0.125,0.025],[0.1,0.125,0.125,0.125,0.125,0.125,0.125,0.125,0.025],[0.1,0.125,0.125,0.125,0.125,0.125,0.125,0.125,0.025],[0.1,0.125,0.125,0.125,0.125,0.125,0.125,0.125,0.025],[0.1,0.125,0.125,0.125,0.125,0.125,0.125,0.125,0.025],[0.1,0.125,0.125,0.125,0.125,0.125,0.125,0.125,0.025],[0.1,0.125,0.125,0.125,0.125,0.125,0.125,0.125,0.025],[0.1,0.125,0.125,0.125,0.125,0.125,0.125,0.125,0.025],[0.1,0.125,0.125,0.125,0.125,0.125,0.125,0.125,0.025]])\n",
    "mc4 = MarkovChain(q4,A4)\n",
    "\n",
    "g14 = GaussD( means=[0], stdevs=[1] )   # Distribution for state = 1\n",
    "g24 = GaussD( means=[10], stdevs=[2] )  # Distribution for state = 2\n",
    "g34 = GaussD( means=[4], stdevs=[10])   # Distribution for state = 3\n",
    "g44 = GaussD( means=[0], stdevs=[1])   # Distribution for state = 4\n",
    "g54 = GaussD( means=[0], stdevs=[1] )   # Distribution for state = 1\n",
    "g64 = GaussD( means=[10], stdevs=[2] )  # Distribution for state = 2\n",
    "g74 = GaussD( means=[4], stdevs=[10])   # Distribution for state = 3\n",
    "g84 = GaussD( means=[0], stdevs=[1])   # Distribution for state = 4\n",
    "g94 = GaussD( means=[100], stdevs=[1])   # Distribution for state = 4\n",
    "disco_h = HMM( mc4, [g14, g24, g34, g44, g54, g64, g74, g84, g94]) \n",
    "\n",
    "q5 = np.array([0.1,0.125,0.125,0.125,0.125,0.125,0.125,0.125,0.025])\n",
    "A5 = np.array([[0.1,0.125,0.125,0.125,0.125,0.125,0.125,0.125,0.025],[0.1,0.125,0.125,0.125,0.125,0.125,0.125,0.125,0.025],[0.1,0.125,0.125,0.125,0.125,0.125,0.125,0.125,0.025],[0.1,0.125,0.125,0.125,0.125,0.125,0.125,0.125,0.025],[0.1,0.125,0.125,0.125,0.125,0.125,0.125,0.125,0.025],[0.1,0.125,0.125,0.125,0.125,0.125,0.125,0.125,0.025],[0.1,0.125,0.125,0.125,0.125,0.125,0.125,0.125,0.025],[0.1,0.125,0.125,0.125,0.125,0.125,0.125,0.125,0.025],[0.1,0.125,0.125,0.125,0.125,0.125,0.125,0.125,0.025]])\n",
    "mc5 = MarkovChain(q5,A5)\n",
    "\n",
    "g15 = GaussD( means=[0], stdevs=[1] )   # Distribution for state = 1\n",
    "g25 = GaussD( means=[10], stdevs=[2] )  # Distribution for state = 2\n",
    "g35 = GaussD( means=[4], stdevs=[10])   # Distribution for state = 3\n",
    "g45 = GaussD( means=[0], stdevs=[1])   # Distribution for state = 4\n",
    "g55 = GaussD( means=[0], stdevs=[1] )   # Distribution for state = 1\n",
    "g65 = GaussD( means=[10], stdevs=[2] )  # Distribution for state = 2\n",
    "g75 = GaussD( means=[4], stdevs=[10])   # Distribution for state = 3\n",
    "g85 = GaussD( means=[0], stdevs=[1])   # Distribution for state = 4\n",
    "g95 = GaussD( means=[100], stdevs=[1])   # Distribution for state = 4\n",
    "reggae_h = HMM( mc5, [g15, g25, g35, g45, g55, g65, g75, g85, g95]) \n",
    "\n",
    "HMM_list = [blues_h, classical_h, disco_h, reggae_h]"
   ]
  },
  {
   "cell_type": "code",
   "execution_count": 8,
   "id": "cab8041e",
   "metadata": {},
   "outputs": [],
   "source": [
    "def cross_validation(HMM_list, data_list, K_number):\n",
    "       \n",
    "    class_number = len(HMM_list)\n",
    "    \n",
    "    number_data_per_chuck = int(80/K_number)\n",
    "    \n",
    "    confusion_matrix_list = []\n",
    "    \n",
    "    for K in range(K_number): #K_number fold crossvalidation 每次的train和test list都不一样   \n",
    "        \n",
    "        print('K:',K)\n",
    "        ###############create train_list and test_list per K_fold Test##################\n",
    "        train_list = []\n",
    "        test_list = []\n",
    "        for index in range(class_number):\n",
    "            train_set = []\n",
    "            test_set = []\n",
    "            for loop in range(80):\n",
    "                if loop not in range(number_data_per_chuck*K,number_data_per_chuck*(K+1)):\n",
    "                    train_set.append(data_list[index][loop])\n",
    "                else:\n",
    "                    test_set.append(data_list[index][loop])\n",
    "            train_list.append(train_set)\n",
    "            test_list.append(test_set)\n",
    "#         print(len(train_list[0]))\n",
    "#         print(len(test_list[0]))\n",
    "            \n",
    "        ###############train HMM##################        \n",
    "        for index in range(class_number):\n",
    "            HMM_list[index].train(train_list[index],len(train_list[index]))\n",
    "        \n",
    "        ###############test each song in test_set##################\n",
    "        confusion_matrix = np.zeros([class_number,class_number])\n",
    "        \n",
    "        for index in range(class_number):\n",
    "            true_label = index\n",
    "            \n",
    "            for each_song in test_list[index]:  ###有100/K_number首\n",
    "                \n",
    "                prob_list = []\n",
    "\n",
    "                for HMM_index in range(class_number):\n",
    "                    logprob = HMM_list[HMM_index].logprob(each_song)\n",
    "                    prob_list.append(logprob)\n",
    "\n",
    "                classification_result = prob_list.index(max(prob_list))\n",
    "                confusion_matrix[true_label,classification_result] += 1\n",
    "                \n",
    "        print(confusion_matrix)\n",
    "        confusion_matrix_list.append(confusion_matrix)\n",
    "    \n",
    "    \n",
    "    return confusion_matrix_list"
   ]
  },
  {
   "cell_type": "code",
   "execution_count": 9,
   "id": "b507c452",
   "metadata": {},
   "outputs": [
    {
     "name": "stdout",
     "output_type": "stream",
     "text": [
      "K: 0\n",
      "logprob: -1902.5158461936715  ite: 1\n",
      "logprob: -1651.3873560151058  ite: 2\n",
      "logprob: -1657.9462080940177  ite: 3\n",
      "prob_change: -6.558852078911968 terminate after ite: 3\n",
      "logprob: -4103.797178624023  ite: 1\n",
      "logprob: -4117.547776466155  ite: 2\n",
      "prob_change: -13.750597842131356 terminate after ite: 2\n",
      "logprob: -2783.9368035503508  ite: 1\n",
      "logprob: -2629.2994258092285  ite: 2\n",
      "logprob: -2629.306768635023  ite: 3\n",
      "prob_change: -0.007342825794694363 terminate after ite: 3\n",
      "logprob: -3155.3924874592094  ite: 1\n",
      "logprob: -3231.2312314433393  ite: 2\n",
      "prob_change: -75.8387439841299 terminate after ite: 2\n",
      "[[ 1. 12.  4.  3.]\n",
      " [ 2. 15.  3.  0.]\n",
      " [ 4.  3. 13.  0.]\n",
      " [ 0.  6. 14.  0.]]\n",
      "K: 1\n",
      "logprob: -1890.8857678125864  ite: 1\n",
      "logprob: -1885.565388352351  ite: 2\n",
      "logprob: -1886.4065487115113  ite: 3\n",
      "prob_change: -0.8411603591603125 terminate after ite: 3\n",
      "logprob: -4103.598442170277  ite: 1\n",
      "logprob: -4103.594282154296  ite: 2\n",
      "prob_change: 0.004160015981142351 terminate after ite: 2\n",
      "logprob: -2629.7417322414562  ite: 1\n",
      "logprob: -2629.741349864024  ite: 2\n",
      "prob_change: 0.00038237743228819454 terminate after ite: 2\n",
      "logprob: -3148.492657936372  ite: 1\n",
      "logprob: -3148.51220937877  ite: 2\n",
      "prob_change: -0.019551442398096697 terminate after ite: 2\n",
      "[[ 3.  4.  0. 13.]\n",
      " [ 0. 13.  0.  7.]\n",
      " [ 1.  7. 12.  0.]\n",
      " [ 8.  0.  6.  6.]]\n",
      "K: 2\n",
      "logprob: -1923.7273219943631  ite: 1\n",
      "logprob: -1923.8753439359523  ite: 2\n",
      "prob_change: -0.14802194158914972 terminate after ite: 2\n",
      "logprob: -4096.711128575292  ite: 1\n",
      "logprob: -4096.670007636917  ite: 2\n",
      "prob_change: 0.04112093837466091 terminate after ite: 2\n",
      "logprob: -2629.171445479991  ite: 1\n",
      "logprob: -2629.173849674313  ite: 2\n",
      "prob_change: -0.0024041943220254325 terminate after ite: 2\n",
      "logprob: -3147.998664606385  ite: 1\n",
      "logprob: -3147.9916602743006  ite: 2\n",
      "prob_change: 0.007004332084306952 terminate after ite: 2\n",
      "[[ 3.  3. 11.  3.]\n",
      " [ 2.  7.  3.  8.]\n",
      " [ 1.  7. 12.  0.]\n",
      " [ 9.  5.  5.  1.]]\n",
      "K: 3\n",
      "logprob: -2601.2806424045084  ite: 1\n",
      "logprob: -2601.147092552394  ite: 2\n",
      "prob_change: 0.13354985211435633 terminate after ite: 2\n",
      "logprob: -2082.8019204020443  ite: 1\n",
      "logprob: -2079.7106513015196  ite: 2\n",
      "logprob: -2106.782345416908  ite: 3\n",
      "prob_change: -27.071694115388254 terminate after ite: 3\n",
      "logprob: -1783.5349779270525  ite: 1\n",
      "logprob: -1783.534638274178  ite: 2\n",
      "prob_change: 0.0003396528745724936 terminate after ite: 2\n",
      "logprob: -2099.2701774562206  ite: 1\n",
      "logprob: -2099.2829331387807  ite: 2\n",
      "prob_change: -0.012755682560054993 terminate after ite: 2\n",
      "[[ 0.  6. 11.  3.]\n",
      " [ 0.  4.  4. 12.]\n",
      " [ 1.  1. 13.  5.]\n",
      " [ 8.  4.  1.  7.]]\n"
     ]
    }
   ],
   "source": [
    "K_number = 4\n",
    "confusion_matrix_list = cross_validation(HMM_list, data_list, K_number)"
   ]
  },
  {
   "cell_type": "code",
   "execution_count": 10,
   "id": "c8146d5b",
   "metadata": {},
   "outputs": [
    {
     "data": {
      "text/plain": [
       "array([[ 7., 25., 26., 22.],\n",
       "       [ 4., 39., 10., 27.],\n",
       "       [ 7., 18., 50.,  5.],\n",
       "       [25., 15., 26., 14.]])"
      ]
     },
     "execution_count": 10,
     "metadata": {},
     "output_type": "execute_result"
    }
   ],
   "source": [
    "aa = np.zeros([4,4])\n",
    "for i in range(len(confusion_matrix_list)):\n",
    "    aa += confusion_matrix_list[i]\n",
    "aa"
   ]
  },
  {
   "cell_type": "code",
   "execution_count": 11,
   "id": "3e01de76",
   "metadata": {},
   "outputs": [
    {
     "name": "stdout",
     "output_type": "stream",
     "text": [
      "[[ 7.  2.  7.  4.]\n",
      " [ 1.  9.  5.  5.]\n",
      " [ 2.  0. 13.  5.]\n",
      " [ 4.  6.  6.  4.]]\n"
     ]
    }
   ],
   "source": [
    "class_number = 4\n",
    "\n",
    "confusion_matrix = np.zeros([class_number,class_number])\n",
    "\n",
    "for index in range(class_number):\n",
    "    true_label = index\n",
    "\n",
    "    for each_song in data_list[index][80:]:  ###有100/K_number首\n",
    "\n",
    "        prob_list = []\n",
    "\n",
    "        for HMM_index in range(class_number):\n",
    "            logprob = HMM_list[HMM_index].logprob(each_song)\n",
    "            prob_list.append(logprob)\n",
    "\n",
    "        classification_result = prob_list.index(max(prob_list))\n",
    "        confusion_matrix[true_label,classification_result] += 1\n",
    "\n",
    "print(confusion_matrix)"
   ]
  },
  {
   "cell_type": "code",
   "execution_count": 12,
   "id": "6c43f9bd",
   "metadata": {},
   "outputs": [
    {
     "data": {
      "text/plain": [
       "array([[14., 27., 33., 26.],\n",
       "       [ 5., 48., 15., 32.],\n",
       "       [ 9., 18., 63., 10.],\n",
       "       [29., 21., 32., 18.]])"
      ]
     },
     "execution_count": 12,
     "metadata": {},
     "output_type": "execute_result"
    }
   ],
   "source": [
    "aa = np.zeros([4,4])\n",
    "for i in range(len(confusion_matrix_list)):\n",
    "    aa += confusion_matrix_list[i]\n",
    "aa+=confusion_matrix\n",
    "aa"
   ]
  },
  {
   "cell_type": "code",
   "execution_count": 14,
   "id": "a7dcb0a4",
   "metadata": {},
   "outputs": [
    {
     "name": "stdout",
     "output_type": "stream",
     "text": [
      "[10.4896127]\n",
      "[5.25210764]\n",
      "[-39.49610676]\n",
      "[-0.11898674]\n",
      "[-0.11898674]\n",
      "[5.25210764]\n",
      "[-39.49610676]\n",
      "[-0.11898674]\n",
      "[100]\n"
     ]
    }
   ],
   "source": [
    "for i in range(9):\n",
    "    print(HMM_list[3].outputDistr[i].means)"
   ]
  },
  {
   "cell_type": "code",
   "execution_count": 15,
   "id": "169b2b3c",
   "metadata": {},
   "outputs": [
    {
     "name": "stdout",
     "output_type": "stream",
     "text": [
      "[[0.   0.   0.5  0.   0.   0.   0.5  0.   0.  ]\n",
      " [0.   0.35 0.15 0.   0.   0.35 0.15 0.   0.  ]\n",
      " [0.   0.03 0.47 0.   0.   0.03 0.47 0.   0.  ]\n",
      " [0.   0.   0.5  0.   0.   0.   0.5  0.   0.  ]\n",
      " [0.   0.   0.5  0.   0.   0.   0.5  0.   0.  ]\n",
      " [0.   0.35 0.15 0.   0.   0.35 0.15 0.   0.  ]\n",
      " [0.   0.03 0.47 0.   0.   0.03 0.47 0.   0.  ]\n",
      " [0.   0.   0.5  0.   0.   0.   0.5  0.   0.  ]\n",
      " [0.1  0.12 0.12 0.12 0.12 0.12 0.12 0.12 0.02]]\n"
     ]
    }
   ],
   "source": [
    "print(np.round(HMM_list[2].stateGen.A,2))"
   ]
  },
  {
   "cell_type": "code",
   "execution_count": null,
   "id": "11a5e381",
   "metadata": {},
   "outputs": [],
   "source": []
  }
 ],
 "metadata": {
  "kernelspec": {
   "display_name": "Python 3",
   "language": "python",
   "name": "python3"
  },
  "language_info": {
   "codemirror_mode": {
    "name": "ipython",
    "version": 3
   },
   "file_extension": ".py",
   "mimetype": "text/x-python",
   "name": "python",
   "nbconvert_exporter": "python",
   "pygments_lexer": "ipython3",
   "version": "3.8.8"
  }
 },
 "nbformat": 4,
 "nbformat_minor": 5
}
