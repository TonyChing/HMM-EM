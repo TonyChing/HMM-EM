{
 "cells": [
  {
   "cell_type": "code",
   "execution_count": 23,
   "id": "eab707b6",
   "metadata": {},
   "outputs": [],
   "source": [
    "from PattRecClasses import DiscreteD, GaussD, HMM, MarkovChain, GetPx\n",
    "from matplotlib import pyplot as plt\n",
    "import numpy as np\n",
    "\n",
    "from matplotlib import pyplot as plt\n",
    "from scipy.io import wavfile\n",
    "from scipy.signal import firwin,filtfilt\n",
    "from GetMusicFeatures import GetMusicFeatures\n",
    "from FeatureExtractor import FeatureExtractor\n",
    "import numpy as np\n",
    "import pickle as pkl\n",
    "def lowpass(x,fc,fs=44100):\n",
    "    \"\"\" x is the signal, \n",
    "        fc is the cuttoff frequency expressed in Hz, must be between [0,fs/2]\n",
    "    \"\"\"\n",
    "    b = firwin(1024, fc,fs=fs)\n",
    "    y = filtfilt(b,1,x)\n",
    "    return y"
   ]
  },
  {
   "cell_type": "code",
   "execution_count": 24,
   "id": "7a603251",
   "metadata": {},
   "outputs": [],
   "source": [
    "blues_all_feature_data = np.load('blues_all_feature_data.npy')"
   ]
  },
  {
   "cell_type": "code",
   "execution_count": 25,
   "id": "0b68da1f",
   "metadata": {},
   "outputs": [
    {
     "data": {
      "text/plain": [
       "array([[-39.2364277 , -39.42877245, -39.08945066, ..., -39.82572513,\n",
       "        -39.95574229, -39.75880158]])"
      ]
     },
     "execution_count": 25,
     "metadata": {},
     "output_type": "execute_result"
    }
   ],
   "source": [
    "blues_all_feature_data[0]"
   ]
  },
  {
   "cell_type": "code",
   "execution_count": 26,
   "id": "1dcf110f",
   "metadata": {},
   "outputs": [],
   "source": [
    "classical_all_feature_data = np.load('classical_all_feature_data.npy',allow_pickle=True)\n",
    "for ff in range(len(classical_all_feature_data)):\n",
    "    classical_all_feature_data[ff] = np.expand_dims(classical_all_feature_data[ff],axis=0)"
   ]
  },
  {
   "cell_type": "code",
   "execution_count": 27,
   "id": "f649049f",
   "metadata": {},
   "outputs": [
    {
     "data": {
      "text/plain": [
       "array([[-39.72151879, -39.35412426, -39.9880332 , ..., -39.4885765 ,\n",
       "        -39.62322488, -39.47311766]])"
      ]
     },
     "execution_count": 27,
     "metadata": {},
     "output_type": "execute_result"
    }
   ],
   "source": [
    "classical_all_feature_data[0]"
   ]
  },
  {
   "cell_type": "code",
   "execution_count": 28,
   "id": "2a56fee8",
   "metadata": {},
   "outputs": [],
   "source": [
    "reggae_all_feature_data = np.load('reggae_all_feature_data.npy',allow_pickle=True)\n",
    "for ff in range(len(reggae_all_feature_data)):\n",
    "    reggae_all_feature_data[ff] = np.expand_dims(reggae_all_feature_data[ff],axis=0)"
   ]
  },
  {
   "cell_type": "code",
   "execution_count": 29,
   "id": "9fdfb953",
   "metadata": {},
   "outputs": [
    {
     "data": {
      "text/plain": [
       "array([[-39.87994897,  -7.59050708,   4.27981186, ..., -39.52099543,\n",
       "        -16.99756332, -39.45570147]])"
      ]
     },
     "execution_count": 29,
     "metadata": {},
     "output_type": "execute_result"
    }
   ],
   "source": [
    "reggae_all_feature_data[0]"
   ]
  },
  {
   "cell_type": "code",
   "execution_count": 30,
   "id": "726d9f0d",
   "metadata": {},
   "outputs": [],
   "source": [
    "disco_all_feature_data = np.load('disco_all_feature_data.npy',allow_pickle=True)\n",
    "for ff in range(len(disco_all_feature_data)):\n",
    "    disco_all_feature_data[ff] = np.expand_dims(disco_all_feature_data[ff],axis=0)"
   ]
  },
  {
   "cell_type": "code",
   "execution_count": 31,
   "id": "6cb455c1",
   "metadata": {},
   "outputs": [
    {
     "data": {
      "text/plain": [
       "array([[-39.28319845,  -8.87301442,  -8.87301442, ..., -39.5732199 ,\n",
       "         -2.4809985 , -39.06421209]])"
      ]
     },
     "execution_count": 31,
     "metadata": {},
     "output_type": "execute_result"
    }
   ],
   "source": [
    "disco_all_feature_data[0]"
   ]
  },
  {
   "cell_type": "code",
   "execution_count": 32,
   "id": "97e57fe0",
   "metadata": {},
   "outputs": [],
   "source": [
    "country_all_feature_data = np.load('country_all_feature_data.npy',allow_pickle=True)\n",
    "for ff in range(len(country_all_feature_data)):\n",
    "    country_all_feature_data[ff] = np.expand_dims(country_all_feature_data[ff],axis=0)"
   ]
  },
  {
   "cell_type": "code",
   "execution_count": 33,
   "id": "7fca95dc",
   "metadata": {},
   "outputs": [
    {
     "data": {
      "text/plain": [
       "array([[-39.30503411,  26.49700549,  26.49700549, ..., -39.44112637,\n",
       "        -39.71941897, -39.27679908]])"
      ]
     },
     "execution_count": 33,
     "metadata": {},
     "output_type": "execute_result"
    }
   ],
   "source": [
    "country_all_feature_data[0]"
   ]
  },
  {
   "cell_type": "code",
   "execution_count": 34,
   "id": "4639fd58",
   "metadata": {},
   "outputs": [],
   "source": [
    "country_all_feature_data = np.load('country_all_feature_data.npy',allow_pickle=True)\n",
    "for ff in range(len(country_all_feature_data)):\n",
    "    country_all_feature_data[ff] = np.expand_dims(country_all_feature_data[ff],axis=0)"
   ]
  },
  {
   "cell_type": "code",
   "execution_count": 35,
   "id": "0687f8b7",
   "metadata": {},
   "outputs": [],
   "source": [
    "data_list = [blues_all_feature_data, \n",
    "            classical_all_feature_data, \n",
    "            disco_all_feature_data,\n",
    "            reggae_all_feature_data]"
   ]
  },
  {
   "cell_type": "code",
   "execution_count": 13,
   "id": "ad975652",
   "metadata": {},
   "outputs": [],
   "source": [
    "# state_number = 4\n",
    "\n",
    "\n",
    "q = np.array([0.25,0.25,0.25,0.25])\n",
    "A = np.array([[0.25,0.25,0.25,0.25],[0.25,0.25,0.25,0.25],[0.25,0.25,0.25,0.25],[0.25,0.25,0.25,0.25]])\n",
    "mc = MarkovChain(q,A)\n",
    "\n",
    "g1 = GaussD( means=[0], stdevs=[1] )   # Distribution for state = 1\n",
    "g2 = GaussD( means=[10], stdevs=[2] )  # Distribution for state = 2\n",
    "g3 = GaussD( means=[4], stdevs=[10])   # Distribution for state = 3\n",
    "g4 = GaussD( means=[0], stdevs=[1])   # Distribution for state = 4\n",
    "\n",
    "blues_h  = HMM( mc, [g1, g2, g3, g4]) \n",
    "\n",
    "q2 = np.array([0.25,0.25,0.25,0.25])\n",
    "A2 = np.array([[0.25,0.25,0.25,0.25],[0.25,0.25,0.25,0.25],[0.25,0.25,0.25,0.25],[0.25,0.25,0.25,0.25]])\n",
    "mc2 = MarkovChain(q2,A2)\n",
    "\n",
    "g12 = GaussD( means=[0], stdevs=[1] )   # Distribution for state = 1\n",
    "g22 = GaussD( means=[10], stdevs=[2] )  # Distribution for state = 2\n",
    "g32 = GaussD( means=[4], stdevs=[10])   # Distribution for state = 3\n",
    "g42 = GaussD( means=[0], stdevs=[1])   # Distribution for state = 4\n",
    "\n",
    "classical_h = HMM( mc2, [g12, g22, g32, g42]) \n",
    "\n",
    "q3 = np.array([0.25,0.25,0.25,0.25])\n",
    "A3 = np.array([[0.25,0.25,0.25,0.25],[0.25,0.25,0.25,0.25],[0.25,0.25,0.25,0.25],[0.25,0.25,0.25,0.25]])\n",
    "mc3 = MarkovChain(q3,A3)\n",
    "\n",
    "g13 = GaussD( means=[0], stdevs=[1] )   # Distribution for state = 1\n",
    "g23 = GaussD( means=[10], stdevs=[2] )  # Distribution for state = 2\n",
    "g33 = GaussD( means=[4], stdevs=[10])   # Distribution for state = 3\n",
    "g43 = GaussD( means=[0], stdevs=[1])   # Distribution for state = 4\n",
    "country_h = HMM( mc3, [g13, g23, g33, g43]) \n",
    "\n",
    "q4 = np.array([0.25,0.25,0.25,0.25])\n",
    "A4 = np.array([[0.25,0.25,0.25,0.25],[0.25,0.25,0.25,0.25],[0.25,0.25,0.25,0.25],[0.25,0.25,0.25,0.25]])\n",
    "mc4 = MarkovChain(q4,A4)\n",
    "\n",
    "g14 = GaussD( means=[0], stdevs=[1] )   # Distribution for state = 1\n",
    "g24 = GaussD( means=[10], stdevs=[2] )  # Distribution for state = 2\n",
    "g34 = GaussD( means=[4], stdevs=[10])   # Distribution for state = 3\n",
    "g44 = GaussD( means=[0], stdevs=[1])   # Distribution for state = 4\n",
    "disco_h = HMM( mc4, [g14, g24, g34, g44]) \n",
    "\n",
    "q5 = np.array([0.25,0.25,0.25,0.25])\n",
    "A5 = np.array([[0.25,0.25,0.25,0.25],[0.25,0.25,0.25,0.25],[0.25,0.25,0.25,0.25],[0.25,0.25,0.25,0.25]])\n",
    "mc5 = MarkovChain(q5,A5)\n",
    "\n",
    "g15 = GaussD( means=[0], stdevs=[1] )   # Distribution for state = 1\n",
    "g25 = GaussD( means=[10], stdevs=[2] )  # Distribution for state = 2\n",
    "g35 = GaussD( means=[4], stdevs=[10])   # Distribution for state = 3\n",
    "g45 = GaussD( means=[0], stdevs=[1])   # Distribution for state = 4\n",
    "hiphop_h = HMM( mc5, [g15, g25, g35, g45]) \n",
    "\n",
    "HMM_list = [blues_h, classical_h, disco_h, hiphop_h]"
   ]
  },
  {
   "cell_type": "code",
   "execution_count": 22,
   "id": "0bcf3891",
   "metadata": {},
   "outputs": [],
   "source": [
    "# state_number = 8\n",
    "\n",
    "\n",
    "q = np.array([0.125,0.125,0.125,0.125,0.125,0.125,0.125,0.125])\n",
    "A = np.array([[0.125,0.125,0.125,0.125,0.125,0.125,0.125,0.125],[0.125,0.125,0.125,0.125,0.125,0.125,0.125,0.125],[0.125,0.125,0.125,0.125,0.125,0.125,0.125,0.125],[0.125,0.125,0.125,0.125,0.125,0.125,0.125,0.125],[0.125,0.125,0.125,0.125,0.125,0.125,0.125,0.125],[0.125,0.125,0.125,0.125,0.125,0.125,0.125,0.125],[0.125,0.125,0.125,0.125,0.125,0.125,0.125,0.125],[0.125,0.125,0.125,0.125,0.125,0.125,0.125,0.125]])\n",
    "mc = MarkovChain(q,A)\n",
    "\n",
    "g1 = GaussD( means=[0], stdevs=[1] )   # Distribution for state = 1\n",
    "g2 = GaussD( means=[10], stdevs=[2] )  # Distribution for state = 2\n",
    "g3 = GaussD( means=[4], stdevs=[10])   # Distribution for state = 3\n",
    "g4 = GaussD( means=[0], stdevs=[1])   # Distribution for state = 4\n",
    "g5 = GaussD( means=[0], stdevs=[1] )   # Distribution for state = 1\n",
    "g6 = GaussD( means=[10], stdevs=[2] )  # Distribution for state = 2\n",
    "g7 = GaussD( means=[4], stdevs=[10])   # Distribution for state = 3\n",
    "g8 = GaussD( means=[0], stdevs=[1])   # Distribution for state = 4\n",
    "\n",
    "blues_h  = HMM( mc, [g1, g2, g3, g4, g5, g6, g7, g8]) \n",
    "\n",
    "q2 = np.array([0.125,0.125,0.125,0.125,0.125,0.125,0.125,0.125])\n",
    "A2 = np.array([[0.125,0.125,0.125,0.125,0.125,0.125,0.125,0.125],[0.125,0.125,0.125,0.125,0.125,0.125,0.125,0.125],[0.125,0.125,0.125,0.125,0.125,0.125,0.125,0.125],[0.125,0.125,0.125,0.125,0.125,0.125,0.125,0.125],[0.125,0.125,0.125,0.125,0.125,0.125,0.125,0.125],[0.125,0.125,0.125,0.125,0.125,0.125,0.125,0.125],[0.125,0.125,0.125,0.125,0.125,0.125,0.125,0.125],[0.125,0.125,0.125,0.125,0.125,0.125,0.125,0.125]])\n",
    "mc2 = MarkovChain(q2,A2)\n",
    "\n",
    "g12 = GaussD( means=[0], stdevs=[1] )   # Distribution for state = 1\n",
    "g22 = GaussD( means=[10], stdevs=[2] )  # Distribution for state = 2\n",
    "g32 = GaussD( means=[4], stdevs=[10])   # Distribution for state = 3\n",
    "g42 = GaussD( means=[0], stdevs=[1])   # Distribution for state = 4\n",
    "g52 = GaussD( means=[0], stdevs=[1] )   # Distribution for state = 1\n",
    "g62 = GaussD( means=[10], stdevs=[2] )  # Distribution for state = 2\n",
    "g72 = GaussD( means=[4], stdevs=[10])   # Distribution for state = 3\n",
    "g82 = GaussD( means=[0], stdevs=[1])   # Distribution for state = 4\n",
    "country_h = HMM( mc2, [g12, g22, g32, g42, g52, g62, g72, g82]) \n",
    "\n",
    "q3 = np.array([0.125,0.125,0.125,0.125,0.125,0.125,0.125,0.125])\n",
    "A3 = np.array([[0.125,0.125,0.125,0.125,0.125,0.125,0.125,0.125],[0.125,0.125,0.125,0.125,0.125,0.125,0.125,0.125],[0.125,0.125,0.125,0.125,0.125,0.125,0.125,0.125],[0.125,0.125,0.125,0.125,0.125,0.125,0.125,0.125],[0.125,0.125,0.125,0.125,0.125,0.125,0.125,0.125],[0.125,0.125,0.125,0.125,0.125,0.125,0.125,0.125],[0.125,0.125,0.125,0.125,0.125,0.125,0.125,0.125],[0.125,0.125,0.125,0.125,0.125,0.125,0.125,0.125]])\n",
    "mc3 = MarkovChain(q3,A3)\n",
    "\n",
    "g13 = GaussD( means=[0], stdevs=[1] )   # Distribution for state = 1\n",
    "g23 = GaussD( means=[10], stdevs=[2] )  # Distribution for state = 2\n",
    "g33 = GaussD( means=[4], stdevs=[10])   # Distribution for state = 3\n",
    "g43 = GaussD( means=[0], stdevs=[1])   # Distribution for state = 4\n",
    "g53 = GaussD( means=[0], stdevs=[1] )   # Distribution for state = 1\n",
    "g63 = GaussD( means=[10], stdevs=[2] )  # Distribution for state = 2\n",
    "g73 = GaussD( means=[4], stdevs=[10])   # Distribution for state = 3\n",
    "g83 = GaussD( means=[0], stdevs=[1])   # Distribution for state = 4\n",
    "classical_h = HMM( mc3, [g13, g23, g33, g43, g53, g63, g73, g83]) \n",
    "\n",
    "q4 = np.array([0.125,0.125,0.125,0.125,0.125,0.125,0.125,0.125])\n",
    "A4 = np.array([[0.125,0.125,0.125,0.125,0.125,0.125,0.125,0.125],[0.125,0.125,0.125,0.125,0.125,0.125,0.125,0.125],[0.125,0.125,0.125,0.125,0.125,0.125,0.125,0.125],[0.125,0.125,0.125,0.125,0.125,0.125,0.125,0.125],[0.125,0.125,0.125,0.125,0.125,0.125,0.125,0.125],[0.125,0.125,0.125,0.125,0.125,0.125,0.125,0.125],[0.125,0.125,0.125,0.125,0.125,0.125,0.125,0.125],[0.125,0.125,0.125,0.125,0.125,0.125,0.125,0.125]])\n",
    "mc4 = MarkovChain(q4,A4)\n",
    "\n",
    "g14 = GaussD( means=[0], stdevs=[1] )   # Distribution for state = 1\n",
    "g24 = GaussD( means=[10], stdevs=[2] )  # Distribution for state = 2\n",
    "g34 = GaussD( means=[4], stdevs=[10])   # Distribution for state = 3\n",
    "g44 = GaussD( means=[0], stdevs=[1])   # Distribution for state = 4\n",
    "g54 = GaussD( means=[0], stdevs=[1] )   # Distribution for state = 1\n",
    "g64 = GaussD( means=[10], stdevs=[2] )  # Distribution for state = 2\n",
    "g74 = GaussD( means=[4], stdevs=[10])   # Distribution for state = 3\n",
    "g84 = GaussD( means=[0], stdevs=[1])   # Distribution for state = 4\n",
    "disco_h = HMM( mc4, [g14, g24, g34, g44, g54, g64, g74, g84]) \n",
    "\n",
    "q5 = np.array([0.125,0.125,0.125,0.125,0.125,0.125,0.125,0.125])\n",
    "A5 = np.array([[0.125,0.125,0.125,0.125,0.125,0.125,0.125,0.125],[0.125,0.125,0.125,0.125,0.125,0.125,0.125,0.125],[0.125,0.125,0.125,0.125,0.125,0.125,0.125,0.125],[0.125,0.125,0.125,0.125,0.125,0.125,0.125,0.125],[0.125,0.125,0.125,0.125,0.125,0.125,0.125,0.125],[0.125,0.125,0.125,0.125,0.125,0.125,0.125,0.125],[0.125,0.125,0.125,0.125,0.125,0.125,0.125,0.125],[0.125,0.125,0.125,0.125,0.125,0.125,0.125,0.125]])\n",
    "mc5 = MarkovChain(q5,A5)\n",
    "\n",
    "g15 = GaussD( means=[0], stdevs=[1] )   # Distribution for state = 1\n",
    "g25 = GaussD( means=[10], stdevs=[2] )  # Distribution for state = 2\n",
    "g35 = GaussD( means=[4], stdevs=[10])   # Distribution for state = 3\n",
    "g45 = GaussD( means=[0], stdevs=[1])   # Distribution for state = 4\n",
    "g55 = GaussD( means=[0], stdevs=[1] )   # Distribution for state = 1\n",
    "g65 = GaussD( means=[10], stdevs=[2] )  # Distribution for state = 2\n",
    "g75 = GaussD( means=[4], stdevs=[10])   # Distribution for state = 3\n",
    "g85 = GaussD( means=[0], stdevs=[1])   # Distribution for state = 4\n",
    "reggae_h = HMM( mc5, [g15, g25, g35, g45, g55, g65, g75, g85]) \n",
    "\n",
    "HMM_list = [blues_h, classical_h, country_h, disco_h, reggae_h]"
   ]
  },
  {
   "cell_type": "code",
   "execution_count": 36,
   "id": "89f862fb",
   "metadata": {},
   "outputs": [],
   "source": [
    "# state_number = 9\n",
    "\n",
    "\n",
    "q = np.array([0.125,0.125,0.125,0.125,0.125,0.125,0.125,0.125,0])\n",
    "A = np.array([[0.125,0.125,0.125,0.125,0.125,0.125,0.125,0.125,0],[0.125,0.125,0.125,0.125,0.125,0.125,0.125,0.125,0],[0.125,0.125,0.125,0.125,0.125,0.125,0.125,0.125,0],[0.125,0.125,0.125,0.125,0.125,0.125,0.125,0.125,0],[0.125,0.125,0.125,0.125,0.125,0.125,0.125,0.125,0],[0.125,0.125,0.125,0.125,0.125,0.125,0.125,0.125,0],[0.125,0.125,0.125,0.125,0.125,0.125,0.125,0.125,0],[0.125,0.125,0.125,0.125,0.125,0.125,0.125,0.125,0],[0.125,0.125,0.125,0.125,0.125,0.125,0.125,0.125,0]])\n",
    "mc = MarkovChain(q,A)\n",
    "\n",
    "g1 = GaussD( means=[0], stdevs=[1] )   # Distribution for state = 1\n",
    "g2 = GaussD( means=[10], stdevs=[2] )  # Distribution for state = 2\n",
    "g3 = GaussD( means=[4], stdevs=[10])   # Distribution for state = 3\n",
    "g4 = GaussD( means=[0], stdevs=[1])   # Distribution for state = 4\n",
    "g5 = GaussD( means=[0], stdevs=[1] )   # Distribution for state = 1\n",
    "g6 = GaussD( means=[10], stdevs=[2] )  # Distribution for state = 2\n",
    "g7 = GaussD( means=[4], stdevs=[10])   # Distribution for state = 3\n",
    "g8 = GaussD( means=[0], stdevs=[1])   # Distribution for state = 4\n",
    "g9 = GaussD( means=[0], stdevs=[1])   # Distribution for state = 4\n",
    "blues_h  = HMM( mc, [g1, g2, g3, g4, g5, g6, g7, g8, g9]) \n",
    "\n",
    "q2 = np.array([0.125,0.125,0.125,0.125,0.125,0.125,0.125,0.125,0])\n",
    "A2 = np.array([[0.125,0.125,0.125,0.125,0.125,0.125,0.125,0.125,0],[0.125,0.125,0.125,0.125,0.125,0.125,0.125,0.125,0],[0.125,0.125,0.125,0.125,0.125,0.125,0.125,0.125,0],[0.125,0.125,0.125,0.125,0.125,0.125,0.125,0.125,0],[0.125,0.125,0.125,0.125,0.125,0.125,0.125,0.125,0],[0.125,0.125,0.125,0.125,0.125,0.125,0.125,0.125,0],[0.125,0.125,0.125,0.125,0.125,0.125,0.125,0.125,0],[0.125,0.125,0.125,0.125,0.125,0.125,0.125,0.125,0],[0.125,0.125,0.125,0.125,0.125,0.125,0.125,0.125,0]])\n",
    "mc2 = MarkovChain(q2,A2)\n",
    "\n",
    "g12 = GaussD( means=[0], stdevs=[1] )   # Distribution for state = 1\n",
    "g22 = GaussD( means=[10], stdevs=[2] )  # Distribution for state = 2\n",
    "g32 = GaussD( means=[4], stdevs=[10])   # Distribution for state = 3\n",
    "g42 = GaussD( means=[0], stdevs=[1])   # Distribution for state = 4\n",
    "g52 = GaussD( means=[0], stdevs=[1] )   # Distribution for state = 1\n",
    "g62 = GaussD( means=[10], stdevs=[2] )  # Distribution for state = 2\n",
    "g72 = GaussD( means=[4], stdevs=[10])   # Distribution for state = 3\n",
    "g82 = GaussD( means=[0], stdevs=[1])   # Distribution for state = 4\n",
    "g92 = GaussD( means=[0], stdevs=[1])   # Distribution for state = 4\n",
    "classical_h = HMM( mc2, [g12, g22, g32, g42, g52, g62, g72, g82, g92]) \n",
    "\n",
    "q3 = np.array([0.125,0.125,0.125,0.125,0.125,0.125,0.125,0.125,0])\n",
    "A3 = np.array([[0.125,0.125,0.125,0.125,0.125,0.125,0.125,0.125,0],[0.125,0.125,0.125,0.125,0.125,0.125,0.125,0.125,0],[0.125,0.125,0.125,0.125,0.125,0.125,0.125,0.125,0],[0.125,0.125,0.125,0.125,0.125,0.125,0.125,0.125,0],[0.125,0.125,0.125,0.125,0.125,0.125,0.125,0.125,0],[0.125,0.125,0.125,0.125,0.125,0.125,0.125,0.125,0],[0.125,0.125,0.125,0.125,0.125,0.125,0.125,0.125,0],[0.125,0.125,0.125,0.125,0.125,0.125,0.125,0.125,0],[0.125,0.125,0.125,0.125,0.125,0.125,0.125,0.125,0]])\n",
    "mc3 = MarkovChain(q3,A3)\n",
    "\n",
    "g13 = GaussD( means=[0], stdevs=[1] )   # Distribution for state = 1\n",
    "g23 = GaussD( means=[10], stdevs=[2] )  # Distribution for state = 2\n",
    "g33 = GaussD( means=[4], stdevs=[10])   # Distribution for state = 3\n",
    "g43 = GaussD( means=[0], stdevs=[1])   # Distribution for state = 4\n",
    "g53 = GaussD( means=[0], stdevs=[1] )   # Distribution for state = 1\n",
    "g63 = GaussD( means=[10], stdevs=[2] )  # Distribution for state = 2\n",
    "g73 = GaussD( means=[4], stdevs=[10])   # Distribution for state = 3\n",
    "g83 = GaussD( means=[0], stdevs=[1])   # Distribution for state = 4\n",
    "g93 = GaussD( means=[0], stdevs=[1])   # Distribution for state = 4\n",
    "country_h = HMM( mc3, [g13, g23, g33, g43, g53, g63, g73, g83, g93]) \n",
    "\n",
    "q4 = np.array([0.125,0.125,0.125,0.125,0.125,0.125,0.125,0.125,0])\n",
    "A4 = np.array([[0.125,0.125,0.125,0.125,0.125,0.125,0.125,0.125,0],[0.125,0.125,0.125,0.125,0.125,0.125,0.125,0.125,0],[0.125,0.125,0.125,0.125,0.125,0.125,0.125,0.125,0],[0.125,0.125,0.125,0.125,0.125,0.125,0.125,0.125,0],[0.125,0.125,0.125,0.125,0.125,0.125,0.125,0.125,0],[0.125,0.125,0.125,0.125,0.125,0.125,0.125,0.125,0],[0.125,0.125,0.125,0.125,0.125,0.125,0.125,0.125,0],[0.125,0.125,0.125,0.125,0.125,0.125,0.125,0.125,0],[0.125,0.125,0.125,0.125,0.125,0.125,0.125,0.125,0]])\n",
    "mc4 = MarkovChain(q4,A4)\n",
    "\n",
    "g14 = GaussD( means=[0], stdevs=[1] )   # Distribution for state = 1\n",
    "g24 = GaussD( means=[10], stdevs=[2] )  # Distribution for state = 2\n",
    "g34 = GaussD( means=[4], stdevs=[10])   # Distribution for state = 3\n",
    "g44 = GaussD( means=[0], stdevs=[1])   # Distribution for state = 4\n",
    "g54 = GaussD( means=[0], stdevs=[1] )   # Distribution for state = 1\n",
    "g64 = GaussD( means=[10], stdevs=[2] )  # Distribution for state = 2\n",
    "g74 = GaussD( means=[4], stdevs=[10])   # Distribution for state = 3\n",
    "g84 = GaussD( means=[0], stdevs=[1])   # Distribution for state = 4\n",
    "g94 = GaussD( means=[0], stdevs=[1])   # Distribution for state = 4\n",
    "disco_h = HMM( mc4, [g14, g24, g34, g44, g54, g64, g74, g84, g94]) \n",
    "\n",
    "q5 = np.array([0.125,0.125,0.125,0.125,0.125,0.125,0.125,0.125,0])\n",
    "A5 = np.array([[0.125,0.125,0.125,0.125,0.125,0.125,0.125,0.125,0],[0.125,0.125,0.125,0.125,0.125,0.125,0.125,0.125,0],[0.125,0.125,0.125,0.125,0.125,0.125,0.125,0.125,0],[0.125,0.125,0.125,0.125,0.125,0.125,0.125,0.125,0],[0.125,0.125,0.125,0.125,0.125,0.125,0.125,0.125,0],[0.125,0.125,0.125,0.125,0.125,0.125,0.125,0.125,0],[0.125,0.125,0.125,0.125,0.125,0.125,0.125,0.125,0],[0.125,0.125,0.125,0.125,0.125,0.125,0.125,0.125,0],[0.125,0.125,0.125,0.125,0.125,0.125,0.125,0.125,0]])\n",
    "mc5 = MarkovChain(q5,A5)\n",
    "\n",
    "g15 = GaussD( means=[0], stdevs=[1] )   # Distribution for state = 1\n",
    "g25 = GaussD( means=[10], stdevs=[2] )  # Distribution for state = 2\n",
    "g35 = GaussD( means=[4], stdevs=[10])   # Distribution for state = 3\n",
    "g45 = GaussD( means=[0], stdevs=[1])   # Distribution for state = 4\n",
    "g55 = GaussD( means=[0], stdevs=[1] )   # Distribution for state = 1\n",
    "g65 = GaussD( means=[10], stdevs=[2] )  # Distribution for state = 2\n",
    "g75 = GaussD( means=[4], stdevs=[10])   # Distribution for state = 3\n",
    "g85 = GaussD( means=[0], stdevs=[1])   # Distribution for state = 4\n",
    "g95 = GaussD( means=[0], stdevs=[1])   # Distribution for state = 4\n",
    "reggae_h = HMM( mc5, [g15, g25, g35, g45, g55, g65, g75, g85, g95]) \n",
    "\n",
    "HMM_list = [blues_h, classical_h, disco_h, reggae_h]\n"
   ]
  },
  {
   "cell_type": "code",
   "execution_count": 14,
   "id": "3e07eda1",
   "metadata": {},
   "outputs": [],
   "source": [
    "# K_number = 4\n",
    "# number_data_per_chuck = int(100/(K_number))\n",
    "\n",
    "# K = 2\n",
    "# # data_list[index][:number_data_per_chuck*K]+data_list[index][number_data_per_chuck*(K+1)-:]\n",
    "\n",
    "\n",
    "\n",
    "# class_number = 5\n",
    "\n",
    "# for K in range(K_number):\n",
    "#     train_list = []\n",
    "#     test_list = []\n",
    "#     for index in range(class_number):\n",
    "#         train_set = []\n",
    "#         test_set = []\n",
    "#         for loop in range(100):\n",
    "#             if loop not in range(number_data_per_chuck*K,number_data_per_chuck*(K+1)):\n",
    "#                 train_set.append(data_list[index][loop])\n",
    "#             else:\n",
    "#                 test_set.append(data_list[index][loop])\n",
    "#         train_list.append(train_set)\n",
    "#         test_list.append(test_set)"
   ]
  },
  {
   "cell_type": "code",
   "execution_count": 15,
   "id": "633068b4",
   "metadata": {},
   "outputs": [],
   "source": [
    "# for i in test_list[4]:\n",
    "#     print(i.shape)"
   ]
  },
  {
   "cell_type": "code",
   "execution_count": 16,
   "id": "706adfc9",
   "metadata": {},
   "outputs": [],
   "source": [
    "# confusion_matrix = np.zeros([class_number,class_number])\n",
    "# confusion_matrix_list = []"
   ]
  },
  {
   "cell_type": "code",
   "execution_count": 44,
   "id": "ee917d9c",
   "metadata": {},
   "outputs": [],
   "source": [
    "def cross_validation(HMM_list, data_list, K_number):\n",
    "       \n",
    "    class_number = len(HMM_list)\n",
    "    \n",
    "    number_data_per_chuck = int(80/K_number)\n",
    "    \n",
    "    confusion_matrix_list = []\n",
    "    \n",
    "    for K in range(K_number): #K_number fold crossvalidation 每次的train和test list都不一样   \n",
    "        \n",
    "        print('K:',K)\n",
    "        ###############create train_list and test_list per K_fold Test##################\n",
    "        train_list = []\n",
    "        test_list = []\n",
    "        for index in range(class_number):\n",
    "            train_set = []\n",
    "            test_set = []\n",
    "            for loop in range(80):\n",
    "                if loop not in range(number_data_per_chuck*K,number_data_per_chuck*(K+1)):\n",
    "                    train_set.append(data_list[index][loop])\n",
    "                else:\n",
    "                    test_set.append(data_list[index][loop])\n",
    "            train_list.append(train_set)\n",
    "            test_list.append(test_set)\n",
    "#         print(len(train_list[0]))\n",
    "#         print(len(test_list[0]))\n",
    "            \n",
    "        ###############train HMM##################        \n",
    "        for index in range(class_number):\n",
    "            HMM_list[index].train(train_list[index],len(train_list[index]))\n",
    "        \n",
    "        ###############test each song in test_set##################\n",
    "        confusion_matrix = np.zeros([class_number,class_number])\n",
    "        \n",
    "        for index in range(class_number):\n",
    "            true_label = index\n",
    "            \n",
    "            for each_song in test_list[index]:  ###有100/K_number首\n",
    "                \n",
    "                prob_list = []\n",
    "\n",
    "                for HMM_index in range(class_number):\n",
    "                    logprob = HMM_list[HMM_index].logprob(each_song)\n",
    "                    prob_list.append(logprob)\n",
    "\n",
    "                classification_result = prob_list.index(max(prob_list))\n",
    "                confusion_matrix[true_label,classification_result] += 1\n",
    "                \n",
    "        print(confusion_matrix)\n",
    "        confusion_matrix_list.append(confusion_matrix)\n",
    "    \n",
    "    \n",
    "    return confusion_matrix_list"
   ]
  },
  {
   "cell_type": "code",
   "execution_count": 45,
   "id": "6fad29f2",
   "metadata": {},
   "outputs": [
    {
     "name": "stdout",
     "output_type": "stream",
     "text": [
      "K: 0\n",
      "logprob: -1905.5669157956538  ite: 1\n",
      "logprob: -1652.3602571967733  ite: 2\n",
      "logprob: -1659.1609464292517  ite: 3\n",
      "prob_change: -6.800689232478362 terminate after ite: 3\n",
      "logprob: -4216.470875558089  ite: 1\n",
      "logprob: -4092.2495778818393  ite: 2\n",
      "logprob: -4101.149216263092  ite: 3\n",
      "prob_change: -8.899638381252771 terminate after ite: 3\n",
      "logprob: -2783.5945623297875  ite: 1\n",
      "logprob: -2629.2993434632376  ite: 2\n",
      "logprob: -2629.306767164546  ite: 3\n",
      "prob_change: -0.0074237013081983605 terminate after ite: 3\n",
      "logprob: -3155.942112495162  ite: 1\n",
      "logprob: -3146.6783718547267  ite: 2\n",
      "logprob: -3146.627901272329  ite: 3\n",
      "prob_change: 0.050470582397792896 terminate after ite: 3\n",
      "[[ 0.  3.  4. 13.]\n",
      " [ 1. 16.  2.  1.]\n",
      " [ 3.  2. 15.  0.]\n",
      " [ 0.  6. 12.  2.]]\n",
      "K: 1\n",
      "logprob: -1850.0304540252346  ite: 1\n",
      "logprob: -1887.0016346749178  ite: 2\n",
      "prob_change: -36.97118064968322 terminate after ite: 2\n",
      "logprob: -4103.446322606848  ite: 1\n",
      "logprob: -4103.473385474143  ite: 2\n",
      "prob_change: -0.027062867294262105 terminate after ite: 2\n",
      "logprob: -2629.741732236912  ite: 1\n",
      "logprob: -2629.74134986398  ite: 2\n",
      "prob_change: 0.00038237293210841017 terminate after ite: 2\n",
      "logprob: -3148.4635648577555  ite: 1\n",
      "logprob: -3148.4883972066414  ite: 2\n",
      "prob_change: -0.02483234888586594 terminate after ite: 2\n",
      "[[ 3.  4.  0. 13.]\n",
      " [ 0. 13.  0.  7.]\n",
      " [ 1.  7. 12.  0.]\n",
      " [ 8.  0.  6.  6.]]\n",
      "K: 2\n",
      "logprob: -1924.485550465258  ite: 1\n",
      "logprob: -1924.430472485083  ite: 2\n",
      "prob_change: 0.0550779801749286 terminate after ite: 2\n",
      "logprob: -4096.6150110967665  ite: 1\n",
      "logprob: -4096.593999584438  ite: 2\n",
      "prob_change: 0.021011512328186654 terminate after ite: 2\n",
      "logprob: -2629.171445480001  ite: 1\n",
      "logprob: -2629.1738496743164  ite: 2\n",
      "prob_change: -0.0024041943156589696 terminate after ite: 2\n",
      "logprob: -3147.998620968417  ite: 1\n",
      "logprob: -3147.9916595649743  ite: 2\n",
      "prob_change: 0.006961403442801384 terminate after ite: 2\n",
      "[[ 3.  3. 11.  3.]\n",
      " [ 2.  7.  3.  8.]\n",
      " [ 2.  5. 12.  1.]\n",
      " [ 9.  5.  5.  1.]]\n",
      "K: 3\n",
      "logprob: -2601.2079730211417  ite: 1\n",
      "logprob: -2601.1317409393264  ite: 2\n",
      "prob_change: 0.07623208181530572 terminate after ite: 2\n",
      "logprob: -2082.7516314333357  ite: 1\n",
      "logprob: -2082.769421390314  ite: 2\n",
      "prob_change: -0.01778995697850405 terminate after ite: 2\n",
      "logprob: -1783.5349779270525  ite: 1\n",
      "logprob: -1783.5346382741784  ite: 2\n",
      "prob_change: 0.00033965287411774625 terminate after ite: 2\n",
      "logprob: -2099.2701774513616  ite: 1\n",
      "logprob: -2099.2829331386974  ite: 2\n",
      "prob_change: -0.012755687335811672 terminate after ite: 2\n",
      "[[ 0.  7. 10.  3.]\n",
      " [ 0. 10.  4.  6.]\n",
      " [ 1.  1. 13.  5.]\n",
      " [ 8.  4.  1.  7.]]\n"
     ]
    }
   ],
   "source": [
    "K_number = 4\n",
    "confusion_matrix_list = cross_validation(HMM_list, data_list, K_number)"
   ]
  },
  {
   "cell_type": "code",
   "execution_count": 46,
   "id": "1e7e7a17",
   "metadata": {},
   "outputs": [
    {
     "data": {
      "text/plain": [
       "array([[ 6., 17., 25., 32.],\n",
       "       [ 3., 46.,  9., 22.],\n",
       "       [ 7., 15., 52.,  6.],\n",
       "       [25., 15., 24., 16.]])"
      ]
     },
     "execution_count": 46,
     "metadata": {},
     "output_type": "execute_result"
    }
   ],
   "source": [
    "aa = np.zeros([4,4])\n",
    "for i in range(len(confusion_matrix_list)):\n",
    "    aa += confusion_matrix_list[i]\n",
    "aa"
   ]
  },
  {
   "cell_type": "code",
   "execution_count": 48,
   "id": "5a9e415f",
   "metadata": {},
   "outputs": [
    {
     "name": "stdout",
     "output_type": "stream",
     "text": [
      "[[ 7.  3.  6.  4.]\n",
      " [ 1. 13.  3.  3.]\n",
      " [ 2.  1. 12.  5.]\n",
      " [ 4.  6.  6.  4.]]\n"
     ]
    }
   ],
   "source": [
    "class_number = 4\n",
    "\n",
    "confusion_matrix = np.zeros([class_number,class_number])\n",
    "\n",
    "for index in range(class_number):\n",
    "    true_label = index\n",
    "\n",
    "    for each_song in data_list[index][80:]:  ###有100/K_number首\n",
    "\n",
    "        prob_list = []\n",
    "\n",
    "        for HMM_index in range(class_number):\n",
    "            logprob = HMM_list[HMM_index].logprob(each_song)\n",
    "            prob_list.append(logprob)\n",
    "\n",
    "        classification_result = prob_list.index(max(prob_list))\n",
    "        confusion_matrix[true_label,classification_result] += 1\n",
    "\n",
    "print(confusion_matrix)"
   ]
  },
  {
   "cell_type": "code",
   "execution_count": 49,
   "id": "105bc6ef",
   "metadata": {},
   "outputs": [
    {
     "data": {
      "text/plain": [
       "array([[13., 20., 31., 36.],\n",
       "       [ 4., 59., 12., 25.],\n",
       "       [ 9., 16., 64., 11.],\n",
       "       [29., 21., 30., 20.]])"
      ]
     },
     "execution_count": 49,
     "metadata": {},
     "output_type": "execute_result"
    }
   ],
   "source": [
    "aa = np.zeros([4,4])\n",
    "for i in range(len(confusion_matrix_list)):\n",
    "    aa += confusion_matrix_list[i]\n",
    "aa+=confusion_matrix\n",
    "aa"
   ]
  },
  {
   "cell_type": "code",
   "execution_count": 32,
   "id": "f8593037",
   "metadata": {},
   "outputs": [
    {
     "data": {
      "text/plain": [
       "-4231.465259893285"
      ]
     },
     "execution_count": 32,
     "metadata": {},
     "output_type": "execute_result"
    }
   ],
   "source": [
    "HMM_list[0].logprob(test_list[index][0])"
   ]
  },
  {
   "cell_type": "code",
   "execution_count": 39,
   "id": "5e03bf4a",
   "metadata": {
    "scrolled": true
   },
   "outputs": [
    {
     "data": {
      "text/plain": [
       "array([7.59510879e-36, 0.00000000e+00, 1.00000000e+00, 7.59510879e-36])"
      ]
     },
     "execution_count": 39,
     "metadata": {},
     "output_type": "execute_result"
    }
   ],
   "source": [
    "HMM_list[0].stateGen.q"
   ]
  },
  {
   "cell_type": "code",
   "execution_count": 43,
   "id": "224ec34c",
   "metadata": {},
   "outputs": [
    {
     "data": {
      "text/plain": [
       "array([7.59510879e-36, 0.00000000e+00, 1.00000000e+00, 7.59510879e-36])"
      ]
     },
     "execution_count": 43,
     "metadata": {},
     "output_type": "execute_result"
    }
   ],
   "source": [
    "HMM_list[3].stateGen.q"
   ]
  },
  {
   "cell_type": "code",
   "execution_count": 50,
   "id": "e99b1c8d",
   "metadata": {},
   "outputs": [
    {
     "data": {
      "text/plain": [
       "array([[13., 20., 31., 36.],\n",
       "       [ 4., 59., 12., 25.],\n",
       "       [ 9., 16., 64., 11.],\n",
       "       [29., 21., 30., 20.]])"
      ]
     },
     "execution_count": 50,
     "metadata": {},
     "output_type": "execute_result"
    }
   ],
   "source": [
    "aa"
   ]
  },
  {
   "cell_type": "code",
   "execution_count": 51,
   "id": "a7118a1d",
   "metadata": {},
   "outputs": [],
   "source": [
    "bb = aa"
   ]
  },
  {
   "cell_type": "code",
   "execution_count": 53,
   "id": "d3e4f9cd",
   "metadata": {},
   "outputs": [
    {
     "data": {
      "text/plain": [
       "array([100., 100., 100., 100.])"
      ]
     },
     "execution_count": 53,
     "metadata": {},
     "output_type": "execute_result"
    }
   ],
   "source": [
    "bb.sum(axis=1)"
   ]
  },
  {
   "cell_type": "code",
   "execution_count": 55,
   "id": "24d9c154",
   "metadata": {},
   "outputs": [
    {
     "data": {
      "text/plain": [
       "0.39"
      ]
     },
     "execution_count": 55,
     "metadata": {},
     "output_type": "execute_result"
    }
   ],
   "source": [
    "(13+59+64+20)/400"
   ]
  },
  {
   "cell_type": "code",
   "execution_count": 57,
   "id": "a9e84556",
   "metadata": {},
   "outputs": [],
   "source": [
    "BB = confusion_matrix_list"
   ]
  },
  {
   "cell_type": "code",
   "execution_count": 59,
   "id": "8b3ae14c",
   "metadata": {},
   "outputs": [],
   "source": [
    "for i in range(4):\n",
    "    BB[i] = BB[i]/BB[i].sum(axis=1)"
   ]
  },
  {
   "cell_type": "code",
   "execution_count": 60,
   "id": "7efde1c7",
   "metadata": {},
   "outputs": [
    {
     "data": {
      "text/plain": [
       "[array([[0.  , 0.15, 0.2 , 0.65],\n",
       "        [0.05, 0.8 , 0.1 , 0.05],\n",
       "        [0.15, 0.1 , 0.75, 0.  ],\n",
       "        [0.  , 0.3 , 0.6 , 0.1 ]]),\n",
       " array([[0.15, 0.2 , 0.  , 0.65],\n",
       "        [0.  , 0.65, 0.  , 0.35],\n",
       "        [0.05, 0.35, 0.6 , 0.  ],\n",
       "        [0.4 , 0.  , 0.3 , 0.3 ]]),\n",
       " array([[0.15, 0.15, 0.55, 0.15],\n",
       "        [0.1 , 0.35, 0.15, 0.4 ],\n",
       "        [0.1 , 0.25, 0.6 , 0.05],\n",
       "        [0.45, 0.25, 0.25, 0.05]]),\n",
       " array([[0.  , 0.35, 0.5 , 0.15],\n",
       "        [0.  , 0.5 , 0.2 , 0.3 ],\n",
       "        [0.05, 0.05, 0.65, 0.25],\n",
       "        [0.4 , 0.2 , 0.05, 0.35]])]"
      ]
     },
     "execution_count": 60,
     "metadata": {},
     "output_type": "execute_result"
    }
   ],
   "source": [
    "BB"
   ]
  },
  {
   "cell_type": "code",
   "execution_count": 80,
   "id": "1a5b0c4e",
   "metadata": {},
   "outputs": [],
   "source": [
    "for i in range(4):\n",
    "    for ii in range(4):\n",
    "        for jj in range(4):\n",
    "            if ii==jj :\n",
    "                BB[i][ii,jj] = 0\n",
    "                x[ii,jj] = 0"
   ]
  },
  {
   "cell_type": "code",
   "execution_count": 81,
   "id": "e0deb9d3",
   "metadata": {},
   "outputs": [
    {
     "data": {
      "text/plain": [
       "[array([[0.  , 0.15, 0.2 , 0.65],\n",
       "        [0.05, 0.  , 0.1 , 0.05],\n",
       "        [0.15, 0.1 , 0.  , 0.  ],\n",
       "        [0.  , 0.3 , 0.6 , 0.  ]]),\n",
       " array([[0.  , 0.2 , 0.  , 0.65],\n",
       "        [0.  , 0.  , 0.  , 0.35],\n",
       "        [0.05, 0.35, 0.  , 0.  ],\n",
       "        [0.4 , 0.  , 0.3 , 0.  ]]),\n",
       " array([[0.  , 0.15, 0.55, 0.15],\n",
       "        [0.1 , 0.  , 0.15, 0.4 ],\n",
       "        [0.1 , 0.25, 0.  , 0.05],\n",
       "        [0.45, 0.25, 0.25, 0.  ]]),\n",
       " array([[0.  , 0.35, 0.5 , 0.15],\n",
       "        [0.  , 0.  , 0.2 , 0.3 ],\n",
       "        [0.05, 0.05, 0.  , 0.25],\n",
       "        [0.4 , 0.2 , 0.05, 0.  ]])]"
      ]
     },
     "execution_count": 81,
     "metadata": {},
     "output_type": "execute_result"
    }
   ],
   "source": [
    "BB"
   ]
  },
  {
   "cell_type": "code",
   "execution_count": 64,
   "id": "9cd78ce8",
   "metadata": {},
   "outputs": [],
   "source": [
    "TT = []\n",
    "for i in range(4):\n",
    "    TT.append(BB[i].sum(axis = 1))"
   ]
  },
  {
   "cell_type": "code",
   "execution_count": 82,
   "id": "44764083",
   "metadata": {},
   "outputs": [],
   "source": [
    "TT.append(x.sum(axis=1))"
   ]
  },
  {
   "cell_type": "code",
   "execution_count": 79,
   "id": "e8949812",
   "metadata": {},
   "outputs": [],
   "source": [
    "x = confusion_matrix"
   ]
  },
  {
   "cell_type": "code",
   "execution_count": 91,
   "id": "ac09d7ac",
   "metadata": {},
   "outputs": [
    {
     "name": "stdout",
     "output_type": "stream",
     "text": [
      "0.8700000000000001\n",
      "0.016599999999999997\n"
     ]
    }
   ],
   "source": [
    "print(np.mean([1,0.85,0.85,1,0.65]))\n",
    "print(np.var([1,0.85,0.85,1,0.65]))"
   ]
  },
  {
   "cell_type": "code",
   "execution_count": 92,
   "id": "0016a00b",
   "metadata": {},
   "outputs": [
    {
     "name": "stdout",
     "output_type": "stream",
     "text": [
      "0.41000000000000003\n",
      "0.0234\n"
     ]
    }
   ],
   "source": [
    "print(np.mean([0.2,0.35,0.65,0.5,0.35]))\n",
    "print(np.var([0.2,0.35,0.65,0.5,0.35]))"
   ]
  },
  {
   "cell_type": "code",
   "execution_count": 93,
   "id": "a334c3bd",
   "metadata": {},
   "outputs": [
    {
     "name": "stdout",
     "output_type": "stream",
     "text": [
      "0.36\n",
      "0.003400000000000001\n"
     ]
    }
   ],
   "source": [
    "print(np.mean([0.25,0.4,0.4,0.35,0.4]))\n",
    "print(np.var([0.25,0.4,0.4,0.35,0.4]))"
   ]
  },
  {
   "cell_type": "code",
   "execution_count": 94,
   "id": "7621792c",
   "metadata": {},
   "outputs": [
    {
     "name": "stdout",
     "output_type": "stream",
     "text": [
      "0.8\n",
      "0.012999999999999998\n"
     ]
    }
   ],
   "source": [
    "print(np.mean([0.9,0.7,0.95,0.65,0.8]))\n",
    "print(np.var([0.9,0.7,0.95,0.65,0.8]))"
   ]
  },
  {
   "cell_type": "code",
   "execution_count": 86,
   "id": "280d595a",
   "metadata": {},
   "outputs": [],
   "source": [
    "TT[4] = TT[4]/20"
   ]
  },
  {
   "cell_type": "code",
   "execution_count": 87,
   "id": "8fa4a86b",
   "metadata": {},
   "outputs": [
    {
     "data": {
      "text/plain": [
       "[array([1.  , 0.2 , 0.25, 0.9 ]),\n",
       " array([0.85, 0.35, 0.4 , 0.7 ]),\n",
       " array([0.85, 0.65, 0.4 , 0.95]),\n",
       " array([1.  , 0.5 , 0.35, 0.65]),\n",
       " array([0.65, 0.35, 0.4 , 0.8 ])]"
      ]
     },
     "execution_count": 87,
     "metadata": {},
     "output_type": "execute_result"
    }
   ],
   "source": [
    "TT"
   ]
  },
  {
   "cell_type": "code",
   "execution_count": 147,
   "id": "290d3b7a",
   "metadata": {},
   "outputs": [
    {
     "data": {
      "image/png": "[encoded data removed]",
      "text/plain": [
       "<Figure size 432x288 with 1 Axes>"
      ]
     },
     "metadata": {
      "needs_background": "light"
     },
     "output_type": "display_data"
    }
   ],
   "source": [
    "T = 500\n",
    "x,s = HMM_list[1].rand(T)\n",
    "plt.plot(x[0])\n",
    "\n",
    "plt.savefig('classical_h_generate')"
   ]
  },
  {
   "cell_type": "code",
   "execution_count": 148,
   "id": "fe62d46e",
   "metadata": {},
   "outputs": [
    {
     "data": {
      "image/png": "[encoded data removed]",
      "text/plain": [
       "<Figure size 432x288 with 1 Axes>"
      ]
     },
     "metadata": {
      "needs_background": "light"
     },
     "output_type": "display_data"
    },
    {
     "data": {
      "image/png": "[encoded data removed]",
      "text/plain": [
       "<Figure size 432x288 with 1 Axes>"
      ]
     },
     "metadata": {
      "needs_background": "light"
     },
     "output_type": "display_data"
    }
   ],
   "source": [
    "plt.figure()\n",
    "plt.plot(disco_all_feature_data[2][0])\n",
    "plt.savefig('disco_feature')\n",
    "plt.figure()\n",
    "plt.plot(classical_all_feature_data[3][0])\n",
    "\n",
    "plt.savefig('classical_feature2')"
   ]
  },
  {
   "cell_type": "code",
   "execution_count": 146,
   "id": "ea103b87",
   "metadata": {},
   "outputs": [
    {
     "name": "stdout",
     "output_type": "stream",
     "text": [
      "[-0.07531595]\n",
      "[-7.23328463]\n",
      "[-39.50033591]\n",
      "[-0.07531595]\n",
      "[-0.07531595]\n",
      "[-7.23328463]\n",
      "[-39.50033591]\n",
      "[-0.07531595]\n",
      "[0]\n"
     ]
    }
   ],
   "source": [
    "for i in range(9):\n",
    "    print(HMM_list[1].outputDistr[i].means)"
   ]
  },
  {
   "cell_type": "code",
   "execution_count": 145,
   "id": "965db920",
   "metadata": {},
   "outputs": [
    {
     "name": "stdout",
     "output_type": "stream",
     "text": [
      "[[0.21 0.   0.09 0.21 0.21 0.   0.09 0.21 0.  ]\n",
      " [0.   0.   0.5  0.   0.   0.   0.5  0.   0.  ]\n",
      " [0.02 0.   0.47 0.02 0.02 0.   0.47 0.02 0.  ]\n",
      " [0.21 0.   0.09 0.21 0.21 0.   0.09 0.21 0.  ]\n",
      " [0.21 0.   0.09 0.21 0.21 0.   0.09 0.21 0.  ]\n",
      " [0.   0.   0.5  0.   0.   0.   0.5  0.   0.  ]\n",
      " [0.02 0.   0.47 0.02 0.02 0.   0.47 0.02 0.  ]\n",
      " [0.21 0.   0.09 0.21 0.21 0.   0.09 0.21 0.  ]\n",
      " [0.12 0.12 0.12 0.12 0.12 0.12 0.12 0.12 0.  ]]\n"
     ]
    }
   ],
   "source": [
    "print(np.round(HMM_list[1].stateGen.A,2))"
   ]
  },
  {
   "cell_type": "code",
   "execution_count": 124,
   "id": "002a6f96",
   "metadata": {},
   "outputs": [
    {
     "data": {
      "text/plain": [
       "[<matplotlib.lines.Line2D at 0x7ff9e006ccd0>]"
      ]
     },
     "execution_count": 124,
     "metadata": {},
     "output_type": "execute_result"
    },
    {
     "data": {
      "image/png": "[encoded data removed]",
      "text/plain": [
       "<Figure size 432x288 with 1 Axes>"
      ]
     },
     "metadata": {
      "needs_background": "light"
     },
     "output_type": "display_data"
    }
   ],
   "source": [
    "plt.plot(classical_all_feature_data[0][0][200:600])"
   ]
  },
  {
   "cell_type": "code",
   "execution_count": null,
   "id": "635c444b",
   "metadata": {},
   "outputs": [],
   "source": []
  }
 ],
 "metadata": {
  "kernelspec": {
   "display_name": "Python 3",
   "language": "python",
   "name": "python3"
  },
  "language_info": {
   "codemirror_mode": {
    "name": "ipython",
    "version": 3
   },
   "file_extension": ".py",
   "mimetype": "text/x-python",
   "name": "python",
   "nbconvert_exporter": "python",
   "pygments_lexer": "ipython3",
   "version": "3.8.8"
  }
 },
 "nbformat": 4,
 "nbformat_minor": 5
}
